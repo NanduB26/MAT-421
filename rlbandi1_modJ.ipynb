{
  "nbformat": 4,
  "nbformat_minor": 0,
  "metadata": {
    "colab": {
      "provenance": [],
      "authorship_tag": "ABX9TyOKNw1tO+KyuxbSc8i39YK9",
      "include_colab_link": true
    },
    "kernelspec": {
      "name": "python3",
      "display_name": "Python 3"
    },
    "language_info": {
      "name": "python"
    }
  },
  "cells": [
    {
      "cell_type": "markdown",
      "metadata": {
        "id": "view-in-github",
        "colab_type": "text"
      },
      "source": [
        "<a href=\"https://colab.research.google.com/github/NanduB26/MAT-421/blob/main/rlbandi1_modJ.ipynb\" target=\"_parent\"><img src=\"https://colab.research.google.com/assets/colab-badge.svg\" alt=\"Open In Colab\"/></a>"
      ]
    },
    {
      "cell_type": "markdown",
      "source": [
        "#MAT 421 Module J: Sections 4.1 and 4.2 HW (Optional)"
      ],
      "metadata": {
        "id": "D4TEitqagWPq"
      }
    },
    {
      "cell_type": "markdown",
      "source": [
        "##Laplacian Matrix"
      ],
      "metadata": {
        "id": "kJS6oCPEgdkP"
      }
    },
    {
      "cell_type": "markdown",
      "source": [
        "Given an undirected graph with 4 nodes and edges with weights as follows:\n",
        "\n",
        "(0, 1) with weight 2\n",
        "\n",
        "(0, 2) with weight 3\n",
        "\n",
        "(1, 3) with weight 1\n",
        "\n",
        "(2, 3) with weight 4\n",
        "\n",
        "Construct the Laplacian matrix\n",
        "𝐿 of the graph and verify that it is symmetric and positive semi-definite."
      ],
      "metadata": {
        "id": "oOiKMnzhgtRb"
      }
    },
    {
      "cell_type": "code",
      "source": [
        "import numpy as np\n",
        "from numpy.linalg import eigvals\n",
        "\n",
        "# number of nodes\n",
        "n = 4\n",
        "\n",
        "# weighted adjacency matrix\n",
        "A = np.array([\n",
        "    [0, 2, 3, 0],\n",
        "    [2, 0, 0, 1],\n",
        "    [3, 0, 0, 4],\n",
        "    [0, 1, 4, 0]\n",
        "])\n",
        "\n",
        "# degree matrix\n",
        "D = np.diag(np.sum(A, axis=1))\n",
        "\n",
        "# laplacian matrix\n",
        "L = D - A\n",
        "\n",
        "print(\"Laplacian matrix L:\\n\", L)\n",
        "\n",
        "# check symmetry\n",
        "print(\"\\nL is symmetric:\", np.allclose(L, L.T))\n",
        "\n",
        "# check positive semi-definiteness\n",
        "eigenvalues = eigvals(L)\n",
        "print(\"Eigenvalues of L:\", eigenvalues)\n",
        "print(\"L is positive semi-definite:\", np.all(eigenvalues >= -1e-10))  # small tolerance for floating point errors\n"
      ],
      "metadata": {
        "colab": {
          "base_uri": "https://localhost:8080/"
        },
        "id": "ex9DqrU0gzpd",
        "outputId": "4cdfe655-43c5-419a-acd8-0f7dfce1db6b"
      },
      "execution_count": 1,
      "outputs": [
        {
          "output_type": "stream",
          "name": "stdout",
          "text": [
            "Laplacian matrix L:\n",
            " [[ 5 -2 -3  0]\n",
            " [-2  3  0 -1]\n",
            " [-3  0  7 -4]\n",
            " [ 0 -1 -4  5]]\n",
            "\n",
            "L is symmetric: True\n",
            "Eigenvalues of L: [ 1.13021868e+01 -6.06285855e-16  5.45221889e+00  3.24559429e+00]\n",
            "L is positive semi-definite: True\n"
          ]
        }
      ]
    },
    {
      "cell_type": "markdown",
      "source": [
        "Prove that for any vector\n",
        "𝑥, the Laplacian quadratic form\n",
        "𝑥^𝑇 𝐿𝑥 equals the sum over all edges\n",
        "(𝑖, 𝑗) of 𝑤 i,j (𝑥i - 𝑥j)^2, using the same graph as the previous question.\n",
        "\n"
      ],
      "metadata": {
        "id": "ghctoMRwhCtf"
      }
    },
    {
      "cell_type": "code",
      "source": [
        "# vector can be random or chosen\n",
        "x = np.array([1, 2, 3, 4])\n",
        "xTLx = x.T @ L @ x\n",
        "\n",
        "# manually compute\n",
        "manual_sum = 0\n",
        "edges = [(0,1,2), (0,2,3), (1,3,1), (2,3,4)]\n",
        "for i, j, w in edges:\n",
        "    manual_sum += w * (x[i] - x[j])**2\n",
        "\n",
        "print(\"x^T L x =\", xTLx)\n",
        "print(\"Manual sum over edges =\", manual_sum)\n",
        "print(\"Are they equal?\", np.isclose(xTLx, manual_sum))"
      ],
      "metadata": {
        "colab": {
          "base_uri": "https://localhost:8080/"
        },
        "id": "wHGK7_hehu3o",
        "outputId": "16499101-89e0-4eed-e674-301d7f22efbb"
      },
      "execution_count": 2,
      "outputs": [
        {
          "output_type": "stream",
          "name": "stdout",
          "text": [
            "x^T L x = 22\n",
            "Manual sum over edges = 22\n",
            "Are they equal? True\n"
          ]
        }
      ]
    },
    {
      "cell_type": "markdown",
      "source": [
        "##Spectral Graph Bipartitioning"
      ],
      "metadata": {
        "id": "fVi9jRTfgjUT"
      }
    },
    {
      "cell_type": "markdown",
      "source": [
        "Given the following undirected unweighted graph with 6 nodes and edges:\n",
        "\n",
        "(0,1), (0,2), (1,2), (3,4), (4,5), (3,5)\n",
        "\n",
        "Use the second smallest eigenvector (Fiedler vector) of the Laplacian matrix to bipartition the graph. Which nodes belong to each partition?"
      ],
      "metadata": {
        "id": "m7hjvjN2h-DK"
      }
    },
    {
      "cell_type": "code",
      "execution_count": 3,
      "metadata": {
        "colab": {
          "base_uri": "https://localhost:8080/",
          "height": 579
        },
        "id": "FrvhgzqEgVnT",
        "outputId": "321ba1dd-3adc-4585-a76d-68f27beb3213"
      },
      "outputs": [
        {
          "output_type": "stream",
          "name": "stdout",
          "text": [
            "Fiedler vector: [0.         0.         0.         0.57735027 0.57735027 0.57735027]\n",
            "Partition 1: [0, 1, 2, 3, 4, 5]\n",
            "Partition 2: []\n"
          ]
        },
        {
          "output_type": "display_data",
          "data": {
            "text/plain": [
              "<Figure size 640x480 with 1 Axes>"
            ],
            "image/png": "[encoded data removed]"
          },
          "metadata": {}
        }
      ],
      "source": [
        "import numpy as np\n",
        "import networkx as nx\n",
        "import matplotlib.pyplot as plt\n",
        "from scipy.linalg import eigh\n",
        "\n",
        "# create graph\n",
        "G = nx.Graph()\n",
        "edges = [(0,1), (0,2), (1,2), (3,4), (4,5), (3,5)]\n",
        "G.add_edges_from(edges)\n",
        "\n",
        "# get Laplacian matrix\n",
        "L = nx.laplacian_matrix(G).toarray()\n",
        "\n",
        "# compute eigenvalues and eigenvectors\n",
        "eigenvalues, eigenvectors = eigh(L)\n",
        "\n",
        "# fiedler vector is the second eigenvector\n",
        "fiedler_vector = eigenvectors[:, 1]\n",
        "\n",
        "# bipartitioning\n",
        "partition1 = [i for i, val in enumerate(fiedler_vector) if val >= 0]\n",
        "partition2 = [i for i, val in enumerate(fiedler_vector) if val < 0]\n",
        "\n",
        "print(\"Fiedler vector:\", fiedler_vector)\n",
        "print(\"Partition 1:\", partition1)\n",
        "print(\"Partition 2:\", partition2)\n",
        "\n",
        "# visualization\n",
        "colors = ['red' if i in partition1 else 'blue' for i in G.nodes()]\n",
        "nx.draw(G, with_labels=True, node_color=colors)\n",
        "plt.title(\"Spectral Bipartitioning\")\n",
        "plt.show()"
      ]
    },
    {
      "cell_type": "markdown",
      "source": [
        "Demonstrate how the value of the Rayleigh Quotient relates to the quality of a partition using the Fiedler vector for the graph in the previous question."
      ],
      "metadata": {
        "id": "YPNjk709iSFW"
      }
    },
    {
      "cell_type": "code",
      "source": [
        "# compute Rayleigh Quotient\n",
        "numerator = fiedler_vector.T @ L @ fiedler_vector\n",
        "denominator = fiedler_vector.T @ fiedler_vector\n",
        "rayleigh_quotient = numerator / denominator\n",
        "\n",
        "print(\"Rayleigh Quotient using Fiedler vector:\", rayleigh_quotient)\n",
        "\n",
        "# compare with eigenvalues\n",
        "print(\"Second smallest eigenvalue (λ2):\", eigenvalues[1])\n"
      ],
      "metadata": {
        "colab": {
          "base_uri": "https://localhost:8080/"
        },
        "id": "0EMllQgtiRn4",
        "outputId": "f727d625-a9e6-4385-c119-8ef4e0d06bfd"
      },
      "execution_count": 4,
      "outputs": [
        {
          "output_type": "stream",
          "name": "stdout",
          "text": [
            "Rayleigh Quotient using Fiedler vector: 7.395570986446991e-31\n",
            "Second smallest eigenvalue (λ2): 2.220446049250313e-15\n"
          ]
        }
      ]
    }
  ]
}