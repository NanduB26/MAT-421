{
  "nbformat": 4,
  "nbformat_minor": 0,
  "metadata": {
    "colab": {
      "provenance": [],
      "authorship_tag": "ABX9TyPemiQNfVkQNYCKW1/uVr4Y",
      "include_colab_link": true
    },
    "kernelspec": {
      "name": "python3",
      "display_name": "Python 3"
    },
    "language_info": {
      "name": "python"
    }
  },
  "cells": [
    {
      "cell_type": "markdown",
      "metadata": {
        "id": "view-in-github",
        "colab_type": "text"
      },
      "source": [
        "<a href=\"https://colab.research.google.com/github/NanduB26/MAT-421/blob/main/rlbandi1_modC.ipynb\" target=\"_parent\"><img src=\"https://colab.research.google.com/assets/colab-badge.svg\" alt=\"Open In Colab\"/></a>"
      ]
    },
    {
      "cell_type": "markdown",
      "source": [
        "#MAT 421 Module C: Sections 19.1, 19,2, 19.3, 19.4, and 19.5 HW"
      ],
      "metadata": {
        "id": "-ulnGsWguKG-"
      }
    },
    {
      "cell_type": "markdown",
      "source": [
        "##Root Finding Problem Statement"
      ],
      "metadata": {
        "id": "-dJTUVa0wuXG"
      }
    },
    {
      "cell_type": "markdown",
      "source": [
        "**Problem 1: Finding Roots of a Non-Linear Function**\n",
        "Given the function f(x) = x^3 - 4x + 1, find a root of the function using numerical approximation."
      ],
      "metadata": {
        "id": "BazNFMW8xQQk"
      }
    },
    {
      "cell_type": "code",
      "source": [
        "import numpy as np\n",
        "from scipy import optimize\n",
        "\n",
        "def f(x):\n",
        "    return x**3 - 4*x + 1\n",
        "\n",
        "# Using fsolve to approximate the root near x = 1\n",
        "root = optimize.fsolve(f, 1)\n",
        "print(\"Approximate root:\", root)\n",
        "print(\"Function value at root:\", f(root))"
      ],
      "metadata": {
        "colab": {
          "base_uri": "https://localhost:8080/"
        },
        "id": "uipuF09Sxapy",
        "outputId": "f8a67071-a664-4e26-a2f9-84eeaa2b31b2"
      },
      "execution_count": 1,
      "outputs": [
        {
          "output_type": "stream",
          "name": "stdout",
          "text": [
            "Approximate root: [0.25410169]\n",
            "Function value at root: [-1.77635684e-15]\n"
          ]
        }
      ]
    },
    {
      "cell_type": "markdown",
      "source": [
        "**Problem 2: Finding Roots of a Transcendental Equation**\n",
        "Solve e^x - 3x = 0 numerically.\n"
      ],
      "metadata": {
        "id": "LlU948Nmx0bT"
      }
    },
    {
      "cell_type": "code",
      "source": [
        "def f2(x):\n",
        "    return np.exp(x) - 3*x\n",
        "\n",
        "root2 = optimize.fsolve(f2, 1)\n",
        "print(\"Approximate root for f2:\", root2)\n",
        "print(\"Function value at root:\", f2(root2))"
      ],
      "metadata": {
        "colab": {
          "base_uri": "https://localhost:8080/"
        },
        "id": "IaWOCPHBx0BY",
        "outputId": "8c327d47-49e9-422e-cf9d-4a527e5d189e"
      },
      "execution_count": 2,
      "outputs": [
        {
          "output_type": "stream",
          "name": "stdout",
          "text": [
            "Approximate root for f2: [0.61906129]\n",
            "Function value at root: [0.]\n"
          ]
        }
      ]
    },
    {
      "cell_type": "markdown",
      "source": [
        "##Tolerance"
      ],
      "metadata": {
        "id": "mpxMHt9Ew7Fe"
      }
    },
    {
      "cell_type": "markdown",
      "source": [
        "**Problem 1: Understanding Tolerance**\n",
        "Consider the equation sin(x) - 0.5 = 0. Solve for x using a numerical solver with a specified tolerance."
      ],
      "metadata": {
        "id": "8QnIiZuMyAPU"
      }
    },
    {
      "cell_type": "code",
      "source": [
        "from scipy.optimize import root_scalar\n",
        "\n",
        "def g(x):\n",
        "    return np.sin(x) - 0.5\n",
        "\n",
        "# Solve with a corrected bracket\n",
        "solution = root_scalar(g, bracket=[0, np.pi/2], method='bisect', xtol=1e-6)\n",
        "print(\"Root with specified tolerance:\", solution.root)\n",
        "print(\"Function value at root:\", g(solution.root))"
      ],
      "metadata": {
        "colab": {
          "base_uri": "https://localhost:8080/"
        },
        "id": "2bO6c8T9yEgw",
        "outputId": "b93f118c-7966-4756-d6a1-cd716fdb4e17"
      },
      "execution_count": 10,
      "outputs": [
        {
          "output_type": "stream",
          "name": "stdout",
          "text": [
            "Root with specified tolerance: 0.5235990252696511\n",
            "Function value at root: 2.1622171797464063e-07\n"
          ]
        }
      ]
    },
    {
      "cell_type": "markdown",
      "source": [
        "**Problem 2: Solving Another Function with Tolerance**\n",
        "Solve cos(x) - x = 0 with a tolerance of 1e-6."
      ],
      "metadata": {
        "id": "COllTNRyyO8x"
      }
    },
    {
      "cell_type": "code",
      "source": [
        "def g2(x):\n",
        "    return np.cos(x) - x\n",
        "\n",
        "solution2 = root_scalar(g2, bracket=[0, 1], method='bisect', xtol=1e-6)\n",
        "print(\"Root with specified tolerance for g2:\", solution2.root)\n",
        "print(\"Function value at root:\", g2(solution2.root))"
      ],
      "metadata": {
        "colab": {
          "base_uri": "https://localhost:8080/"
        },
        "id": "YDBHEakbySx-",
        "outputId": "38644923-c2a1-4bc8-d0cb-b01d36f8239e"
      },
      "execution_count": 4,
      "outputs": [
        {
          "output_type": "stream",
          "name": "stdout",
          "text": [
            "Root with specified tolerance for g2: 0.7390851974487305\n",
            "Function value at root: -1.0750207668497325e-07\n"
          ]
        }
      ]
    },
    {
      "cell_type": "markdown",
      "source": [
        "##Bisection Method"
      ],
      "metadata": {
        "id": "dXvDj-krw-cV"
      }
    },
    {
      "cell_type": "markdown",
      "source": [
        "**Problem 1: Implementing the Bisection Method**\n",
        "Find a root of the function h(x) = x^2 - 3 using the bisection method."
      ],
      "metadata": {
        "id": "sEvqWx68yW2i"
      }
    },
    {
      "cell_type": "code",
      "source": [
        "def bisection_method(func, a, b, tol=1e-6):\n",
        "    if func(a) * func(b) >= 0:\n",
        "        raise ValueError(\"The function must have opposite signs at a and b.\")\n",
        "\n",
        "    while (b - a) / 2.0 > tol:\n",
        "        midpoint = (a + b) / 2.0\n",
        "        if func(midpoint) == 0:\n",
        "            return midpoint\n",
        "        elif func(a) * func(midpoint) < 0:\n",
        "            b = midpoint\n",
        "        else:\n",
        "            a = midpoint\n",
        "    return (a + b) / 2.0\n",
        "\n",
        "def h(x):\n",
        "    return x**2 - 3\n",
        "\n",
        "root_bisection = bisection_method(h, 1, 2)\n",
        "print(\"Root found using bisection method:\", root_bisection)\n",
        "print(\"Function value at root:\", h(root_bisection))"
      ],
      "metadata": {
        "colab": {
          "base_uri": "https://localhost:8080/"
        },
        "id": "pIoKKaMkybIO",
        "outputId": "194c268d-37ea-44b9-a9bc-5444124770f9"
      },
      "execution_count": 6,
      "outputs": [
        {
          "output_type": "stream",
          "name": "stdout",
          "text": [
            "Root found using bisection method: 1.732050895690918\n",
            "Function value at root: 3.052637111977674e-07\n"
          ]
        }
      ]
    },
    {
      "cell_type": "markdown",
      "source": [
        "**Problem 2: Finding Root of Another Function Using Bisection**\n",
        "Solve x^3 - 2x - 5 = 0 using the bisection method."
      ],
      "metadata": {
        "id": "646h-2-EykrP"
      }
    },
    {
      "cell_type": "code",
      "source": [
        "def h2(x):\n",
        "    return x**3 - 2*x - 5\n",
        "\n",
        "root_bisection2 = bisection_method(h2, 2, 3)\n",
        "print(\"Root found using bisection method for h2:\", root_bisection2)\n",
        "print(\"Function value at root:\", h2(root_bisection2))"
      ],
      "metadata": {
        "colab": {
          "base_uri": "https://localhost:8080/"
        },
        "id": "TDgN549Eyuk_",
        "outputId": "fe7532ef-932b-4746-e9a0-8a8955406b0e"
      },
      "execution_count": 7,
      "outputs": [
        {
          "output_type": "stream",
          "name": "stdout",
          "text": [
            "Root found using bisection method for h2: 2.0945520401000977\n",
            "Function value at root: 6.234309738673005e-06\n"
          ]
        }
      ]
    },
    {
      "cell_type": "markdown",
      "source": [
        "##Newton-Raphson Method"
      ],
      "metadata": {
        "id": "-_GArEMYxBUp"
      }
    },
    {
      "cell_type": "markdown",
      "source": [
        "**Problem 1: Implementing the Newton-Raphson Method**\n",
        "Find a root of the function j(x) = x^3 - x - 2 using the Newton-Raphson method."
      ],
      "metadata": {
        "id": "0icXc713y8xd"
      }
    },
    {
      "cell_type": "code",
      "execution_count": 8,
      "metadata": {
        "colab": {
          "base_uri": "https://localhost:8080/"
        },
        "id": "Rh2sAGb0uI9x",
        "outputId": "189702d8-fa2c-4ea5-a55b-0acd68fa8c1d"
      },
      "outputs": [
        {
          "output_type": "stream",
          "name": "stdout",
          "text": [
            "Root found using Newton-Raphson method: 1.5213797068045676\n",
            "Function value at root: 0.0\n"
          ]
        }
      ],
      "source": [
        "def j(x):\n",
        "    return x**3 - x - 2\n",
        "\n",
        "def j_prime(x):\n",
        "    return 3*x**2 - 1\n",
        "\n",
        "root_newton = optimize.newton(j, 1, fprime=j_prime)\n",
        "print(\"Root found using Newton-Raphson method:\", root_newton)\n",
        "print(\"Function value at root:\", j(root_newton))"
      ]
    },
    {
      "cell_type": "markdown",
      "source": [
        "**Problem 2: Solving Another Function Using Newton-Raphson**\n",
        "Solve x^3 - 6x^2 + 11x - 6 = 0 using the Newton-Raphson method."
      ],
      "metadata": {
        "id": "ECsMm5xozE7Z"
      }
    },
    {
      "cell_type": "code",
      "source": [
        "def j2(x):\n",
        "    return x**3 - 6*x**2 + 11*x - 6\n",
        "\n",
        "def j2_prime(x):\n",
        "    return 3*x**2 - 12*x + 11\n",
        "\n",
        "root_newton2 = optimize.newton(j2, 2, fprime=j2_prime)\n",
        "print(\"Root found using Newton-Raphson method for j2:\", root_newton2)\n",
        "print(\"Function value at root:\", j2(root_newton2))"
      ],
      "metadata": {
        "colab": {
          "base_uri": "https://localhost:8080/"
        },
        "id": "cIRyvyGLzCt0",
        "outputId": "57ab459e-7671-4e2d-8663-21e4addddb36"
      },
      "execution_count": 9,
      "outputs": [
        {
          "output_type": "stream",
          "name": "stdout",
          "text": [
            "Root found using Newton-Raphson method for j2: 2.0\n",
            "Function value at root: 0.0\n"
          ]
        }
      ]
    }
  ]
}