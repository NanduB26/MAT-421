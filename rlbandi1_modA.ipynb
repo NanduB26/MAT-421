{
  "nbformat": 4,
  "nbformat_minor": 0,
  "metadata": {
    "colab": {
      "provenance": [],
      "authorship_tag": "ABX9TyPZk4Lajk0XbimZT0niP7it",
      "include_colab_link": true
    },
    "kernelspec": {
      "name": "python3",
      "display_name": "Python 3"
    },
    "language_info": {
      "name": "python"
    }
  },
  "cells": [
    {
      "cell_type": "markdown",
      "metadata": {
        "id": "view-in-github",
        "colab_type": "text"
      },
      "source": [
        "<a href=\"https://colab.research.google.com/github/NanduB26/MAT-421/blob/main/rlbandi1_modA.ipynb\" target=\"_parent\"><img src=\"https://colab.research.google.com/assets/colab-badge.svg\" alt=\"Open In Colab\"/></a>"
      ]
    },
    {
      "cell_type": "markdown",
      "source": [
        "# MAT 421 Module A: Sections 9.1, 9.2 and 9.3 HW"
      ],
      "metadata": {
        "id": "Y2jzYXjCH_ix"
      }
    },
    {
      "cell_type": "markdown",
      "source": [
        "## Base-N and Binary"
      ],
      "metadata": {
        "id": "EJIrUbnLJEcT"
      }
    },
    {
      "cell_type": "markdown",
      "source": [
        "In the decimal system, numbers are expressed using the digits 0 through 9, where each digit's position corresponds to a power of 10. In contrast, computers operate using the binary system (base 2) because they depend on electrical states, such as the presence or absence of voltage. Numbers can also be represented in alternative bases, including base 16 (hexadecimal) and base 3."
      ],
      "metadata": {
        "id": "5C89zxopKX5w"
      }
    },
    {
      "cell_type": "code",
      "source": [
        "#Base 10 Decomposition: The number 77 in Base 10 can be broken down into powers of 10.\n",
        "base10_decomposition = (7 * 10**1) + (7 * 10**0)\n",
        "print(f\"{77 == base10_decomposition}, Result: {base10_decomposition}\")"
      ],
      "metadata": {
        "colab": {
          "base_uri": "https://localhost:8080/"
        },
        "id": "qRDWSsgAJog4",
        "outputId": "0fd0a058-5c64-4192-e4f2-cd3d25d9602a"
      },
      "execution_count": 6,
      "outputs": [
        {
          "output_type": "stream",
          "name": "stdout",
          "text": [
            "True, Result: 77\n"
          ]
        }
      ]
    },
    {
      "cell_type": "code",
      "source": [
        "#Base 16 Decomposition: The number 22 in Base 10 is equivalent to 16 in Base 16.\n",
        "base16_decomposition = 1 * 16**1 + 6 * 16**0\n",
        "print(f\"{22 == base16_decomposition}, Result: {base16_decomposition}\")"
      ],
      "metadata": {
        "colab": {
          "base_uri": "https://localhost:8080/"
        },
        "id": "aW0_XtCSLqLv",
        "outputId": "aefe04a6-f112-43cc-9d68-26d9b06c51da"
      },
      "execution_count": 7,
      "outputs": [
        {
          "output_type": "stream",
          "name": "stdout",
          "text": [
            "True, Result: 22\n"
          ]
        }
      ]
    },
    {
      "cell_type": "code",
      "source": [
        "#Binary to Decimal Conversion: The binary number 1011 (Base 2) is equivalent to the decimal number 11 (Base 10).\n",
        "binary_to_decimal = 1 * 2**3 + 0 * 2**2 + 1 * 2**1 + 1 * 2**0\n",
        "print(f\"{binary_to_decimal == 11}, Result: {binary_to_decimal}\")"
      ],
      "metadata": {
        "colab": {
          "base_uri": "https://localhost:8080/"
        },
        "id": "hlqFqsx7L0ys",
        "outputId": "94130f89-5d2f-412f-ece6-c536ac7d083d"
      },
      "execution_count": 8,
      "outputs": [
        {
          "output_type": "stream",
          "name": "stdout",
          "text": [
            "True, Result: 11\n"
          ]
        }
      ]
    },
    {
      "cell_type": "code",
      "source": [
        "#Binary Addition: A binary arithmetic operation, adding 7 (0111) and 6 (0110) in binary results in 14 (1110).\n",
        "binary_addition = 1 * 2**3 + 1 * 2**2 + 1 * 2**1 + 0 * 2**0\n",
        "print(f\"{binary_addition == 14}, Result: {binary_addition}\")"
      ],
      "metadata": {
        "colab": {
          "base_uri": "https://localhost:8080/"
        },
        "id": "KoeBlHwqL7-3",
        "outputId": "af5982e6-630c-48a4-d4fa-aee15c403eef"
      },
      "execution_count": 9,
      "outputs": [
        {
          "output_type": "stream",
          "name": "stdout",
          "text": [
            "True, Result: 14\n"
          ]
        }
      ]
    },
    {
      "cell_type": "code",
      "source": [
        "#Binary Multiplication: A binary arithmetic operation, multiplying 6 (0110) and 5 (0101) in binary results in 30 (11110).\n",
        "binary_multiplication = 1 * 2**4 + 1 * 2**3 + 1 * 2**2 + 1 * 2**1 + 0 * 2**0\n",
        "print(f\"{binary_multiplication == 30}, Result: {binary_multiplication}\")"
      ],
      "metadata": {
        "colab": {
          "base_uri": "https://localhost:8080/"
        },
        "id": "aqfCqLVOMC6n",
        "outputId": "cf84a03d-03ad-48c4-c627-8e3133254ea8"
      },
      "execution_count": 11,
      "outputs": [
        {
          "output_type": "stream",
          "name": "stdout",
          "text": [
            "True, Result: 30\n"
          ]
        }
      ]
    },
    {
      "cell_type": "markdown",
      "source": [
        "##Floating Point Numbers"
      ],
      "metadata": {
        "id": "KG9eOj-5MOKO"
      }
    },
    {
      "cell_type": "markdown",
      "source": [
        "Computers represent floating-point numbers using the IEEE754 standard, which divides bits among the sign, exponent, and fraction. This format enables the representation of a broad range of real numbers but comes with limitations, including gaps between representable values and challenges in handling extremely large or small numbers."
      ],
      "metadata": {
        "id": "9TKX9pNxMUM2"
      }
    },
    {
      "cell_type": "code",
      "source": [
        "import sys\n",
        "import numpy as np\n",
        "#Returns floating point value information\n",
        "print(f\"Floating Point Information: {sys.float_info}\")"
      ],
      "metadata": {
        "colab": {
          "base_uri": "https://localhost:8080/"
        },
        "id": "e_E1pojQMv78",
        "outputId": "7d2928b2-d5c4-4ba8-9754-5b084abbc498"
      },
      "execution_count": 13,
      "outputs": [
        {
          "output_type": "stream",
          "name": "stdout",
          "text": [
            "Floating Point Information: sys.float_info(max=1.7976931348623157e+308, max_exp=1024, max_10_exp=308, min=2.2250738585072014e-308, min_exp=-1021, min_10_exp=-307, dig=15, mant_dig=53, epsilon=2.220446049250313e-16, radix=2, rounds=1)\n"
          ]
        }
      ]
    },
    {
      "cell_type": "code",
      "source": [
        "#Gap between numbers at 1e9\n",
        "gap = np.spacing(1e9)\n",
        "print(f\"Gap at 1e9: {gap}\")\n",
        "result = 1e9 + gap / 2.1\n",
        "print(f\"1e9 == (1e9 + gap/2.1): {1e9 == result}, Result: {result}\")"
      ],
      "metadata": {
        "colab": {
          "base_uri": "https://localhost:8080/"
        },
        "id": "T70wd-dVNiF1",
        "outputId": "3ee04037-53bf-4856-ce8f-07a64ee397aa"
      },
      "execution_count": 14,
      "outputs": [
        {
          "output_type": "stream",
          "name": "stdout",
          "text": [
            "Gap at 1e9: 1.1920928955078125e-07\n",
            "1e9 == (1e9 + gap/2.1): True, Result: 1000000000.0\n"
          ]
        }
      ]
    },
    {
      "cell_type": "code",
      "source": [
        "#Overflowing: In Python, if a calculation produces a number exceeding the range that can be represented by the available bits, the result is displayed as 'inf'\n",
        "big_number = sys.float_info.max + sys.float_info.max\n",
        "print(f\"Overflow Result: {big_number}\")"
      ],
      "metadata": {
        "colab": {
          "base_uri": "https://localhost:8080/"
        },
        "id": "MgoWVi-MNp_j",
        "outputId": "5e39ae3a-2b9f-4259-fe0b-d63d90a264e1"
      },
      "execution_count": 16,
      "outputs": [
        {
          "output_type": "stream",
          "name": "stdout",
          "text": [
            "Overflow Result: inf\n"
          ]
        }
      ]
    },
    {
      "cell_type": "code",
      "source": [
        "#Underflowing: In Python, numbers smaller than the minimum representable value are returned as 0.0.\n",
        "small_number = 2**-1075\n",
        "print(f\"Underflow Result: {small_number}\")"
      ],
      "metadata": {
        "colab": {
          "base_uri": "https://localhost:8080/"
        },
        "id": "V7FSVdnPOG7Y",
        "outputId": "45aab93d-f5b7-4335-ca5e-42a4fdb77812"
      },
      "execution_count": 17,
      "outputs": [
        {
          "output_type": "stream",
          "name": "stdout",
          "text": [
            "Underflow Result: 0.0\n"
          ]
        }
      ]
    },
    {
      "cell_type": "markdown",
      "source": [
        "##Round-Off Errors"
      ],
      "metadata": {
        "id": "Ax-tpKSHOaIz"
      }
    },
    {
      "cell_type": "markdown",
      "source": [
        "Floating point numbers cannot always represent decimal values with perfect precision due to their binary nature. This leads to small errors known as round-off errors. These errors can accumulate over multiple calculations, resulting in significant deviations in results. Using functions like round() can mitigate these errors."
      ],
      "metadata": {
        "id": "mXLKvyItO13F"
      }
    },
    {
      "cell_type": "code",
      "source": [
        "#Floating point representation error: Subtracting 5.845 from 5.9 should result in 0.055, but due to floating-point precision, it may differ slightly.\n",
        "difference = 5.9 - 5.845\n",
        "print(f\"{difference == 0.055}, Result: {round(difference, 3)}\")"
      ],
      "metadata": {
        "colab": {
          "base_uri": "https://localhost:8080/"
        },
        "id": "0_gpPNopO3Ep",
        "outputId": "02d201b6-c420-42a7-86da-b02e0da20b35"
      },
      "execution_count": 19,
      "outputs": [
        {
          "output_type": "stream",
          "name": "stdout",
          "text": [
            "False, Result: 0.055\n"
          ]
        }
      ]
    },
    {
      "cell_type": "code",
      "source": [
        "#Using round to mitigate errors: Rounding the result to 5 decimal places ensures the comparison is accurate.\n",
        "rounded_difference = round(5.9 - 5.845, 5)\n",
        "print(f\"{rounded_difference == round(0.055, 5)}, Result: {rounded_difference}\")"
      ],
      "metadata": {
        "colab": {
          "base_uri": "https://localhost:8080/"
        },
        "id": "17Gb1v8IPe0e",
        "outputId": "b4b1c729-2955-4858-f6ac-3ea4e6723d64"
      },
      "execution_count": 22,
      "outputs": [
        {
          "output_type": "stream",
          "name": "stdout",
          "text": [
            "True, Result: 0.055\n"
          ]
        }
      ]
    },
    {
      "cell_type": "code",
      "source": [
        "#Accumulation of Round-Off Errors: Demonstrating how round-off errors accumulate in iterative operations.\n",
        "def add_and_subtract(iterations):\n",
        "    result = 2\n",
        "    for _ in range(iterations):\n",
        "        result += 2 / 3\n",
        "    for _ in range(iterations):\n",
        "        result -= 2 / 3\n",
        "    return result\n",
        "#Testing the function with increasing iterations\n",
        "for iterations in [10, 100, 1000, 1000000]:\n",
        "    final_result = add_and_subtract(iterations)\n",
        "    print(f\"Result after {iterations} iterations: {final_result:.17f}\")"
      ],
      "metadata": {
        "colab": {
          "base_uri": "https://localhost:8080/"
        },
        "id": "6cqjPK3CPyMp",
        "outputId": "c078e7bf-1218-44b8-9af4-52d3a9bb5832"
      },
      "execution_count": 25,
      "outputs": [
        {
          "output_type": "stream",
          "name": "stdout",
          "text": [
            "Result after 10 iterations: 1.99999999999999822\n",
            "Result after 100 iterations: 2.00000000000000044\n",
            "Result after 1000 iterations: 2.00000000000001288\n",
            "Result after 1000000 iterations: 1.99999999994559730\n"
          ]
        }
      ]
    },
    {
      "cell_type": "code",
      "source": [
        "#Further Demonstration of Error Accumulation in Arithmetic: Adding and subtracting a small value multiple times\n",
        "initial_value = 1.0\n",
        "increment = 1e-7\n",
        "\n",
        "#Adding and subtracting increment 1,000,000 times\n",
        "for iterations in [10, 100, 1000, 1000000]:\n",
        "    temp_value = initial_value\n",
        "    for _ in range(iterations):\n",
        "        temp_value += increment\n",
        "    for _ in range(iterations):\n",
        "        temp_value -= increment\n",
        "    print(f\"After {iterations} additions and subtractions of {increment}: {temp_value:.17f}\")"
      ],
      "metadata": {
        "colab": {
          "base_uri": "https://localhost:8080/"
        },
        "id": "5UJjhRo2QL3F",
        "outputId": "0d82799f-a5b6-4706-a3be-c65db193bbb9"
      },
      "execution_count": 26,
      "outputs": [
        {
          "output_type": "stream",
          "name": "stdout",
          "text": [
            "After 10 additions and subtractions of 1e-07: 1.00000000000000000\n",
            "After 100 additions and subtractions of 1e-07: 1.00000000000000000\n",
            "After 1000 additions and subtractions of 1e-07: 1.00000000000000000\n",
            "After 1000000 additions and subtractions of 1e-07: 1.00000000000000000\n"
          ]
        }
      ]
    }
  ]
}