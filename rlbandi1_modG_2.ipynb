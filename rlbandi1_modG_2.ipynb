{
  "nbformat": 4,
  "nbformat_minor": 0,
  "metadata": {
    "colab": {
      "provenance": [],
      "authorship_tag": "ABX9TyPqEtghyRWoilXAYee92bpA",
      "include_colab_link": true
    },
    "kernelspec": {
      "name": "python3",
      "display_name": "Python 3"
    },
    "language_info": {
      "name": "python"
    }
  },
  "cells": [
    {
      "cell_type": "markdown",
      "metadata": {
        "id": "view-in-github",
        "colab_type": "text"
      },
      "source": [
        "<a href=\"https://colab.research.google.com/github/NanduB26/MAT-421/blob/main/rlbandi1_modG_2.ipynb\" target=\"_parent\"><img src=\"https://colab.research.google.com/assets/colab-badge.svg\" alt=\"Open In Colab\"/></a>"
      ]
    },
    {
      "cell_type": "markdown",
      "source": [
        "##MAT 421 Module G: Sections 21.4 and 21.5 HW"
      ],
      "metadata": {
        "id": "HQ8ZUmnx04zi"
      }
    },
    {
      "cell_type": "markdown",
      "source": [
        "###Simpson’s Rule"
      ],
      "metadata": {
        "id": "OMd11K711Oh2"
      }
    },
    {
      "cell_type": "markdown",
      "source": [
        "Use Simpson’s Rule to approximate the integral of the function:\n",
        "\n",
        "f(x)",
        "=\n",
        "cos\n",
        "⁡\n",
        "(\n",
        "x^2\n",
        ")\n",
        "over the interval [0, 3] using n = 9 subintervals. Compare the result with the exact integral computed numerically."
      ],
      "metadata": {
        "id": "tvhS3thy2BIz"
      }
    },
    {
      "cell_type": "code",
      "execution_count": 2,
      "metadata": {
        "colab": {
          "base_uri": "https://localhost:8080/"
        },
        "id": "JH2Ie2ML0ycF",
        "outputId": "424f923a-9444-4e3a-f986-4a9cf4664788"
      },
      "outputs": [
        {
          "output_type": "stream",
          "name": "stdout",
          "text": [
            "Method                   Value               \n",
            "--------------------------------------------------\n",
            "Simpson’s Approximation  0.741715            \n",
            "Exact Integral           0.702864            \n",
            "Error                    -0.038851           \n"
          ]
        }
      ],
      "source": [
        "import numpy as np\n",
        "import scipy.integrate as spi\n",
        "\n",
        "# Define the function to integrate\n",
        "def f(x):\n",
        "    return np.cos(x**2)\n",
        "\n",
        "# Define the integration limits and number of points (n must be odd for Simpson's Rule)\n",
        "a = 0  # Lower limit\n",
        "b = 3  # Upper limit\n",
        "n = 9  # Number of points (must be odd)\n",
        "\n",
        "# Compute step size\n",
        "h = (b - a) / (n - 1)\n",
        "\n",
        "# Generate x values and corresponding function values\n",
        "x = np.linspace(a, b, n)\n",
        "fx = f(x)\n",
        "\n",
        "# Apply Simpson's Rule\n",
        "I_simp = (h/3) * (fx[0] + 2 * sum(fx[2:n-2:2]) + 4 * sum(fx[1:n-1:2]) + fx[n-1])\n",
        "\n",
        "# Compute the exact integral using numerical integration\n",
        "exact_integral, _ = spi.quad(f, a, b)\n",
        "\n",
        "# Compute error\n",
        "err_simp = exact_integral - I_simp\n",
        "\n",
        "# Print the results with headers\n",
        "print(f\"{'Method':<25}{'Value':<20}\")\n",
        "print(\"-\" * 50)\n",
        "print(f\"{'Simpson’s Approximation':<25}{I_simp:<20.6f}\")\n",
        "print(f\"{'Exact Integral':<25}{exact_integral:<20.6f}\")\n",
        "print(f\"{'Error':<25}{err_simp:<20.6f}\")"
      ]
    },
    {
      "cell_type": "markdown",
      "source": [
        "Use Simpson’s Rule to approximate the following integral:\n",
        "\n",
        "I\n",
        "=\n",
        "∫\n",
        "1\n",
        "4\n",
        "(\n",
        "x^3\n",
        "e^-x\n",
        ")\n",
        "d\n",
        "x\n",
        "using n = 11 subintervals. Compare the result with the exact integral computed numerically and analyze the error."
      ],
      "metadata": {
        "id": "a5JfZF1Q23us"
      }
    },
    {
      "cell_type": "code",
      "source": [
        "import numpy as np\n",
        "import scipy.integrate as spi\n",
        "\n",
        "# Define the function to integrate\n",
        "def f(x):\n",
        "    return x**3 * np.exp(-x)\n",
        "\n",
        "# Define the integration limits and number of points (n must be odd for Simpson's Rule)\n",
        "a = 1  # Lower limit\n",
        "b = 4  # Upper limit\n",
        "n = 11  # Number of points (must be odd)\n",
        "\n",
        "# Compute step size\n",
        "h = (b - a) / (n - 1)\n",
        "\n",
        "# Generate x values and corresponding function values\n",
        "x = np.linspace(a, b, n)\n",
        "fx = f(x)\n",
        "\n",
        "# Apply Simpson's Rule\n",
        "I_simp = (h/3) * (fx[0] + 2 * sum(fx[2:n-2:2]) + 4 * sum(fx[1:n-1:2]) + fx[n-1])\n",
        "\n",
        "# Compute the exact integral using numerical integration\n",
        "exact_integral, _ = spi.quad(f, a, b)\n",
        "\n",
        "# Compute error\n",
        "err_simp = exact_integral - I_simp\n",
        "\n",
        "# Print the results with headers\n",
        "print(f\"{'Method':<25}{'Value':<20}\")\n",
        "print(\"-\" * 50)\n",
        "print(f\"{'Simpson’s Approximation':<25}{I_simp:<20.6f}\")\n",
        "print(f\"{'Exact Integral':<25}{exact_integral:<20.6f}\")\n",
        "print(f\"{'Error':<25}{err_simp:<20.6f}\")"
      ],
      "metadata": {
        "colab": {
          "base_uri": "https://localhost:8080/"
        },
        "id": "k-uYaOGx3Il-",
        "outputId": "1ab13ab1-f803-472f-fc94-4beb4cbe695f"
      },
      "execution_count": 3,
      "outputs": [
        {
          "output_type": "stream",
          "name": "stdout",
          "text": [
            "Method                   Value               \n",
            "--------------------------------------------------\n",
            "Simpson’s Approximation  3.285330            \n",
            "Exact Integral           3.285250            \n",
            "Error                    -0.000080           \n"
          ]
        }
      ]
    },
    {
      "cell_type": "markdown",
      "source": [
        "Since the error is an extremely low number, it is proven that the Simpson's Approximation algorithm provides accurate results."
      ],
      "metadata": {
        "id": "k008n7Dd3YZH"
      }
    }
  ]
}
