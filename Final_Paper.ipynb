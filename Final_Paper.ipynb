{
  "nbformat": 4,
  "nbformat_minor": 0,
  "metadata": {
    "colab": {
      "provenance": [],
      "toc_visible": true,
      "authorship_tag": "ABX9TyOKxwunVjyBr+qBgLvvVid2",
      "include_colab_link": true
    },
    "kernelspec": {
      "name": "python3",
      "display_name": "Python 3"
    },
    "language_info": {
      "name": "python"
    }
  },
  "cells": [
    {
      "cell_type": "markdown",
      "metadata": {
        "id": "view-in-github",
        "colab_type": "text"
      },
      "source": [
        "<a href=\"https://colab.research.google.com/github/NanduB26/MAT-421/blob/main/Final_Paper.ipynb\" target=\"_parent\"><img src=\"https://colab.research.google.com/assets/colab-badge.svg\" alt=\"Open In Colab\"/></a>"
      ]
    },
    {
      "cell_type": "markdown",
      "source": [
        "#**MAT 421 Final Paper: Predicting Breast Cancer Diagnosis Using Machine Learning**"
      ],
      "metadata": {
        "id": "QEi8dcOPNcQN"
      }
    },
    {
      "cell_type": "markdown",
      "source": [
        "###By: Rajanandini Bandi"
      ],
      "metadata": {
        "id": "Zn65bVrlIpXA"
      }
    },
    {
      "cell_type": "markdown",
      "source": [
        "##**Introduction:**"
      ],
      "metadata": {
        "id": "R15rKVndOVsu"
      }
    },
    {
      "cell_type": "markdown",
      "source": [
        "Breast cancer is the most commonly diagnosed cancer worldwide and a leading cause of cancer-related death among women. In 2020 alone, approximately 2.3 million women were diagnosed with breast cancer, and 685,000 died from the disease globally (World Health Organization, 2021). Early detection plays a vital role in improving survival rates, as diagnosing cancer at an earlier stage allows for more effective treatment options and better long-term outcomes. However, current diagnostic methods, such as mammography, ultrasound, and biopsy, while effective, can be expensive, invasive, time-consuming, and subject to variability in clinical interpretation (Elmore, 2005). These limitations highlight the need for complementary approaches that can enhance diagnostic accuracy, speed, and accessibility.\n",
        "\n",
        "Machine learning provides a promising solution by enabling automated analysis of complex medical datasets to assist in clinical decision-making. By learning patterns in patient data, machine learning algorithms can support early detection efforts, reduce diagnostic errors, and improve healthcare efficiency. Recent advancements in ML have shown that algorithms can achieve diagnostic performance comparable to or better than human experts in fields such as dermatology and radiology (Esteva, 2017; McKinney, 2020).\n",
        "\n",
        "The primary research question this project addresses is: Which machine learning algorithm is most effective for accurately classifying breast tumors as benign or malignant using structured diagnostic data? In order to answer this question, I developed and evaluated multiple machine learning models using the Breast Cancer Wisconsin Diagnostic Dataset (UCI Machine Learning Repository, 2020), a well-established dataset containing features extracted from digitized images of breast mass cell nuclei.\n",
        "\n",
        "The significance of this work lies in its potential to contribute to improved diagnostic processes in breast cancer care. By systematically comparing the performance of Logistic Regression, Support Vector Machines (SVM), Random Forest, K-Nearest Neighbors (KNN), and Artificial Neural Networks (ANN), this paper aims to identify the most accurate and reliable model for tumor classification. This project will also delve into how feature selection techniques impact model performance, ultimately advancing the development of more robust, interpretable, and accessible diagnostic tools."
      ],
      "metadata": {
        "id": "Z-UcCKSsOYji"
      }
    },
    {
      "cell_type": "markdown",
      "source": [
        "##**Related Work:**"
      ],
      "metadata": {
        "id": "SWZtSQUCRKtb"
      }
    },
    {
      "cell_type": "markdown",
      "source": [
        "Machine learning has become a critical tool for improving breast cancer diagnosis, offering automated and accurate classification of tumors based on patient data. Researchers have widely applied models such as Logistic Regression, Support Vector Machines (SVM), Decision Trees, Random Forests, and Deep Learning architectures to this problem domain, leading to significant improvements in diagnostic accuracy.\n",
        "\n",
        "Early work by Street, Wolberg, and Mangasarian (1993) laid the foundation for machine learning in breast cancer research. They introduced the Breast Cancer Wisconsin Diagnostic Dataset and demonstrated that Logistic Regression and SVM could classify tumors based on digitized measurements of cell nuclei. Their pioneering study highlighted the potential of data-driven approaches in clinical diagnosis and motivated subsequent exploration into more complex and nonlinear models.\n",
        "\n",
        "Support Vector Machines (SVM) quickly gained popularity due to their ability to perform well in high-dimensional spaces. Osareh (2010) conducted an extensive evaluation of SVMs applied to breast cancer diagnosis, finding that the use of non-linear kernels, such as the radial basis function (RBF), significantly improved classification accuracy compared to linear SVM models. These findings emphasized that careful kernel selection is critical when dealing with medical datasets where decision boundaries are often non-linear and complex.\n",
        "\n",
        "In parallel, researchers investigated tree-based models, which offer inherent advantages such as interpretability and robustness against noisy data. Nagi and Arora (2013) demonstrated that Random Forest classifiers outperform single Decision Trees by aggregating multiple decision paths, thus reducing overfitting and improving generalization. Random Forest models also offer feature importance measures, providing insights into which attributes contribute most significantly to classification, a particularly valuable trait in clinical contexts where understanding predictive factors is as important as achieving high accuracy.\n",
        "\n",
        "Deep learning methods, particularly Convolutional Neural Networks (CNNs), have also been applied to breast cancer detection, especially in imaging-based tasks. Arevalo et al. (2016) showed that CNNs could automatically extract complex hierarchical features from medical images without requiring manual feature engineering. Their results indicated that deep learning models, when trained on large-scale datasets, could achieve diagnostic performances comparable to or exceeding traditional machine learning models. However, they also noted that CNNs require large annotated datasets and considerable computational resources, posing practical challenges in many real-world healthcare settings where data and infrastructure are limited.\n",
        "\n",
        "Several other studies have expanded the body of knowledge on breast cancer classification by evaluating ensemble methods, boosting techniques, and hybrid models. For instance, Polat and Gunes (2007) combined principal component analysis (PCA) with an artificial immune recognition system to achieve high accuracy in breast cancer prediction. More recently, researchers like Zhang et al. (2019) have explored deep ensemble models, integrating multiple neural networks to enhance performance further.\n",
        "\n",
        "Despite these advancements, many studies focus on evaluating a single model or a narrow class of algorithms without conducting broad, systematic comparisons across multiple model types using standardized datasets. Moreover, the impact of feature selection techniques, such as Principal Component Analysis (PCA) or Recursive Feature Elimination (RFE), on model performance is often underexplored. Hence there is a gap that remains so there is a need for a comprehensive, comparative study that benchmarks traditional machine learning methods and neural networks under consistent experimental settings using interpretable clinical datasets.\n",
        "\n",
        "This project aims to address that gap by systematically evaluating the performance of Logistic Regression, SVM, Random Forest, K-Nearest Neighbors (KNN), and Artificial Neural Networks (ANN) on the Breast Cancer Wisconsin Diagnostic Dataset. In addition to accuracy, this study will analyze precision, recall, F1-score, ROC-AUC, and the effects of feature selection on model effectiveness. Through this analysis, the paper will seek to contribute actionable insights into selecting and optimizing machine learning models for breast cancer diagnosis in structured data contexts."
      ],
      "metadata": {
        "id": "QdUZqA4hOrWp"
      }
    },
    {
      "cell_type": "markdown",
      "source": [
        "##**Proposed Methodology:**"
      ],
      "metadata": {
        "id": "ld7FTvtqSZcR"
      }
    },
    {
      "cell_type": "markdown",
      "source": [
        "This project applies a supervised machine learning approach to classify breast tumors as either malignant or benign using structured diagnostic data. The methodology consists of five major stages: data preprocessing, feature engineering, model building, model evaluation, and hyperparameter optimization. To ensure a mathematically grounded implementation, this section also details two key numerical methods used: Logistic Regression and Principal Component Analysis (PCA)."
      ],
      "metadata": {
        "id": "PTjNp2DHS27f"
      }
    },
    {
      "cell_type": "markdown",
      "source": [
        "###**Data Preprocessing:**"
      ],
      "metadata": {
        "id": "RRRf8Dx6S8rY"
      }
    },
    {
      "cell_type": "markdown",
      "source": [
        "The first step in the process involves preparing the dataset to maximize model performance. Although the Breast Cancer Wisconsin Diagnostic Dataset is largely clean, any missing values will be handled appropriately, either through removal or imputation.\n",
        "\n",
        "Normalization follows, where numerical features are standardized using Scikit-learn’s StandardScaler. Standardization adjusts the feature distributions to have a mean of zero and a standard deviation of one. This step is crucial because many machine learning models, particularly Support Vector Machines (SVM) and K-Nearest Neighbors (KNN), are sensitive to feature scaling. Standardization ensures that all features contribute equally to distance-based and margin-based calculations.\n",
        "\n",
        "Finally, I will split the dataset into a training set (80%) and a testing set (20%), enabling unbiased evaluation of model performance on unseen data."
      ],
      "metadata": {
        "id": "L32zqbE3TObc"
      }
    },
    {
      "cell_type": "markdown",
      "source": [
        "###**Feature Engineering and Selection:**"
      ],
      "metadata": {
        "id": "zizl1JKnTQsE"
      }
    },
    {
      "cell_type": "markdown",
      "source": [
        "Feature selection aims to identify the most informative attributes while reducing redundancy and noise. Two main techniques will be applied:\n",
        "\n",
        "1) **Principal Component Analysis (PCA):** PCA is a dimensionality reduction method that transforms correlated features into a smaller number of uncorrelated components while retaining as much variance as possible.\n",
        "\n",
        "2) **Recursive Feature Elimination (RFE):** RFE recursively trains a model and removes the least important features based on model coefficients or feature importance scores, ultimately selecting a subset that contributes most to predictive performance.\n",
        "\n",
        "Feature engineering improves model interpretability, reduces computational costs, and often enhances generalization by minimizing overfitting."
      ],
      "metadata": {
        "id": "iikFdJTeTXmu"
      }
    },
    {
      "cell_type": "markdown",
      "source": [
        "###**Model Building:**"
      ],
      "metadata": {
        "id": "fua6TP2PTqvk"
      }
    },
    {
      "cell_type": "markdown",
      "source": [
        "Several machine learning algorithms will be implemented and compared:\n",
        "\n",
        "**Logistic Regression:** Serves as the baseline model for binary classification due to its simplicity, efficiency, and interpretability.\n",
        "\n",
        "**Support Vector Machines (SVM):** Selected for its strong performance in high-dimensional spaces and robustness to outliers.\n",
        "\n",
        "**Random Forest:** A powerful ensemble model that reduces overfitting by aggregating multiple decision trees and provides insight into feature importance.\n",
        "\n",
        "**K-Nearest Neighbors (KNN):** A simple, instance-based learning algorithm that classifies based on proximity to training examples.\n",
        "\n",
        "**Artificial Neural Networks (ANN):** Explores the potential of deep learning models to capture complex, nonlinear relationships in the data.\n",
        "\n",
        "Each model will be implemented using the Scikit-learn library and trained on the preprocessed data."
      ],
      "metadata": {
        "id": "Ugsd5H-RTzZ9"
      }
    },
    {
      "cell_type": "markdown",
      "source": [
        "###**Hyperparamter Optimization:**"
      ],
      "metadata": {
        "id": "SCBjzXsiT-Uy"
      }
    },
    {
      "cell_type": "markdown",
      "source": [
        "To improve model performance, hyperparameters will be tuned using Grid Search combined with Cross-Validation. Grid Search systematically explores different parameter combinations, while Cross-Validation reduces the risk of overfitting by evaluating model performance across multiple data splits."
      ],
      "metadata": {
        "id": "BkXr8GyLUEWy"
      }
    },
    {
      "cell_type": "markdown",
      "source": [
        "##**Mathematical Methods:**"
      ],
      "metadata": {
        "id": "T-4Bz4eGUIR4"
      }
    },
    {
      "cell_type": "markdown",
      "source": [
        "This section provides mathematical details for two key methods used in the project: Logistic Regression and Principal Component Analysis (PCA)."
      ],
      "metadata": {
        "id": "uec2pwM1cP0o"
      }
    },
    {
      "cell_type": "markdown",
      "source": [
        "###**Logistic Regression:**"
      ],
      "metadata": {
        "id": "f6z3AbLXc7tI"
      }
    },
    {
      "cell_type": "markdown",
      "source": [
        "Logistic Regression models the probability that a given instance belongs to a particular class. Unlike linear regression, which predicts a continuous outcome, Logistic Regression predicts a probability constrained between 0 and 1.\n",
        "\n",
        "The hypothesis function for Logistic Regression is defined as: $$\n",
        "h_\\theta(x) = \\frac{1}{1 + e^{-\\theta^T x}}\n",
        "$$ where:\n",
        "\n",
        "- 𝑥\n",
        "is the input feature vector\n",
        "\n",
        "- 𝜃\n",
        "is the vector of learned parameters (weights)\n",
        "\n",
        "- $h_\\theta(x)$\n",
        "gives the estimated probability that the input belongs to the positive class\n",
        "\n",
        "The decision boundary is set at 0.5 by default:\n",
        "\n",
        "- If\n",
        "$h_\\theta(x) ≥ 0.5$\n",
        ", the model predicts class 1 (malignant)\n",
        "\n",
        "- Otherwise, it predicts class 0 (benign)\n",
        "\n",
        "The model parameters\n",
        "𝜃\n",
        "are learned by minimizing the **binary cross-entropy loss function:**\n",
        "$$\n",
        "J(\\theta) = -\\frac{1}{m} \\sum_{i=1}^{m} \\left[ y^{(i)} \\log(h_\\theta(x^{(i)})) + (1 - y^{(i)}) \\log(1 - h_\\theta(x^{(i)})) \\right]\n",
        "$$\n",
        "where:\n",
        "\n",
        "- 𝑚\n",
        "is the number of training examples\n",
        "- $y^{(i)}$\n",
        "  is the true label for the 𝑖-th example\n",
        "- $h_\\theta(x^{(i)})$ is the predicted probability for the\n",
        "𝑖-th example\n",
        "\n",
        "Optimization algorithms such as gradient descent are used to iteratively adjust\n",
        "𝜃 in order to minimize the loss function."
      ],
      "metadata": {
        "id": "bJhq4WpYdBGq"
      }
    },
    {
      "cell_type": "markdown",
      "source": [
        "###**Principal Component Analysis (PCA):**"
      ],
      "metadata": {
        "id": "blNmYVmufKqF"
      }
    },
    {
      "cell_type": "markdown",
      "source": [
        "Principal Component Analysis (PCA) is a statistical technique that transforms a dataset with correlated features into a new set of uncorrelated features called principal components. These principal components are linear combinations of the original features and are ordered such that the first few retain most of the variation present in the original dataset.\n",
        "\n",
        "The steps for PCA are as follows:\n",
        "\n",
        "1) **Standardize** the dataset so that each feature has zero mean and unit variance.\n",
        "\n",
        "2) **Compute the covariance matrix** of the standardized data: $$\n",
        "\\Sigma = \\frac{1}{m} X^T X\n",
        "$$\n",
        "where\n",
        "𝑋 is the matrix of standardized features.\n",
        "\n",
        "3) **Calculate the eigenvectors and eigenvalues** of the covariance matrix.\n",
        "\n",
        "- Eigenvectors represent the principal components.\n",
        "\n",
        "- Eigenvalues measure the amount of variance captured by each component.\n",
        "\n",
        "4) **Sort the eigenvectors** in decreasing order according to their eigenvalues.\n",
        "\n",
        "5) **Project the data** onto the top\n",
        "𝑘 eigenvectors to obtain a reduced-dimensionality representation.\n",
        "\n",
        "Mathematically, if\n",
        "𝑊 is the matrix of the selected eigenvectors, the reduced feature matrix\n",
        "𝑍 is:\n",
        "$$Z=XW$$\n",
        "\n",
        "By preserving components associated with the largest eigenvalues, PCA reduces dimensionality while retaining as much of the dataset’s variance as possible. This reduction helps speed up model training, reduces noise, and can improve model generalization performance."
      ],
      "metadata": {
        "id": "u5Sgem-lfSuD"
      }
    },
    {
      "cell_type": "markdown",
      "source": [
        "##**Experiment Setup:**"
      ],
      "metadata": {
        "id": "pvCwUrUGhZtU"
      }
    },
    {
      "cell_type": "markdown",
      "source": [
        "###**Experimental Environment:**"
      ],
      "metadata": {
        "id": "Bd6Cwi96hcGi"
      }
    },
    {
      "cell_type": "markdown",
      "source": [
        "I conducted all experiments in **Google Colab**, a cloud-based development platform that provides free access to powerful hardware accelerators and a preinstalled suite of machine learning libraries. Google Colab offers a flexible, accessible environment ideal for iterative development, rapid prototyping, and large-scale machine learning experiments. Key libraries used include Scikit-learn for model implementation and evaluation, **Pandas** for data manipulation, **NumPy** for numerical computations, and **Matplotlib** and **Seaborn** for visualization.\n",
        "\n",
        "All code, results, and supporting documentation are stored in a **GitHub repository** to facilitate version control, ensure reproducibility, and maintain a transparent research workflow."
      ],
      "metadata": {
        "id": "6qFFfNk1heSU"
      }
    },
    {
      "cell_type": "markdown",
      "source": [
        "###**Dataset and Preprocessing:**"
      ],
      "metadata": {
        "id": "uAlMleOzhuLc"
      }
    },
    {
      "cell_type": "markdown",
      "source": [
        "The dataset utilized for this study is the **Breast Cancer Wisconsin Diagnostic Dataset**, available from the UCI Machine Learning Repository and Kaggle. The dataset contains **569 samples** with **30 numerical features** describing various characteristics of cell nuclei obtained via fine needle aspiration biopsies. Each instance is labeled as either **malignant** or **benign**, providing a binary classification task.\n",
        "\n",
        "Preprocessing steps included:\n",
        "\n",
        "- **Handling missing values:** Although this dataset is relatively clean, initial inspection verified the absence of missing or null entries.\n",
        "\n",
        "- **Feature standardization:** Numerical features were normalized using **StandardScaler** from Scikit-learn, ensuring zero mean and unit variance. Standardization is critical for distance-based models like Support Vector Machines (SVM) and K-Nearest Neighbors (KNN).\n",
        "\n",
        "**Data splitting:** The dataset was divided into an **80% training set** and a **20% testing set** to ensure an unbiased evaluation of model performance on unseen data.\n",
        "\n",
        "These preprocessing steps ensured that all models were trained under consistent, high-quality data conditions."
      ],
      "metadata": {
        "id": "_eyA37feh6L5"
      }
    },
    {
      "cell_type": "markdown",
      "source": [
        "###**Model Training and Hyperparameter Optimization:**"
      ],
      "metadata": {
        "id": "YGdEIG-Uic0p"
      }
    },
    {
      "cell_type": "markdown",
      "source": [
        "I implemented and trained five machine learning models: Logistic Regression, Support Vector Machine **(SVM)**, **Random Forest**, K-Nearest Neighbors **(KNN)**, and Artificial Neural Network **(ANN)**. Each model was trained on the preprocessed training set and evaluated on the testing set.\n",
        "\n",
        "To optimize model performance, I performed **hyperparameter tuning** using **Grid Search** combined with **k-fold Cross-Validation** (with $k = 5$. Grid Search systematically explores combinations of hyperparameter values (e.g., regularization strength for Logistic Regression, number of neighbors for KNN, number of estimators for Random Forest) to identify the configuration that yields the best validation performance.\n",
        "\n",
        "Cross-Validation minimizes overfitting risk and ensures that the models generalize well across different data subsets, rather than merely fitting the training set."
      ],
      "metadata": {
        "id": "KT6kmL77ihnV"
      }
    },
    {
      "cell_type": "markdown",
      "source": [
        "###**Performance Evaluation Metrics**"
      ],
      "metadata": {
        "id": "22YypUSJi6dh"
      }
    },
    {
      "cell_type": "markdown",
      "source": [
        "Model performance was assessed using multiple classification metrics to provide a comprehensive view of predictive capability:\n",
        "\n",
        "- **Accuracy:** Overall proportion of correct predictions.\n",
        "\n",
        "- **Precision:** Proportion of positive identifications that were actually correct.\n",
        "\n",
        "- **Recall:** Proportion of actual positives that were correctly identified.\n",
        "\n",
        "- **F1-Score:** Harmonic mean of precision and recall, useful for imbalanced datasets.\n",
        "\n",
        "- **ROC Curve and AUC:** Measures model discrimination across classification thresholds.\n",
        "\n",
        "Additionally, I generated **confusion matrices** to visualize the counts of true positives, true negatives, false positives, and false negatives. **Precision-Recall curves** were also plotted to further analyze model performance, especially under imbalanced conditions.\n",
        "\n",
        "By relying on multiple evaluation metrics and visualization techniques, I ensured a robust and nuanced understanding of each model’s strengths and weaknesses."
      ],
      "metadata": {
        "id": "fq3whu7sjAC3"
      }
    },
    {
      "cell_type": "markdown",
      "source": [
        "##**Implementation:**"
      ],
      "metadata": {
        "id": "4gueMUxTjjD_"
      }
    },
    {
      "cell_type": "markdown",
      "source": [
        "This section describes the Python implementation of the experimental pipeline for breast cancer diagnosis prediction. All code was developed and executed in Google Colab, leveraging its built-in support for machine learning libraries and GPU acceleration.\n",
        "\n",
        "The following major libraries were used:\n",
        "\n",
        "- **pandas** and **numpy** for data loading and manipulation\n",
        "\n",
        "- **scikit-learn (sklearn)** for preprocessing, modeling, evaluation, feature selection, and hyperparameter tuning\n",
        "\n",
        "- **matplotlib** and **seaborn** for data visualization"
      ],
      "metadata": {
        "id": "7tRS6CilkUPI"
      }
    },
    {
      "cell_type": "markdown",
      "source": [
        "###**Step 1: Data Loading and Exploration**"
      ],
      "metadata": {
        "id": "JofJLpVFkl7t"
      }
    },
    {
      "cell_type": "markdown",
      "source": [
        "I first imported the Breast Cancer Wisconsin Diagnostic Dataset from Kaggle. The dataset was loaded into a pandas DataFrame for analysis."
      ],
      "metadata": {
        "id": "YI3Yqo8Okzh2"
      }
    },
    {
      "cell_type": "code",
      "source": [
        "import pandas as pd\n",
        "\n",
        "# Load the dataset\n",
        "data = pd.read_csv('/content/data.csv')\n",
        "\n",
        "# Drop unnecessary columns\n",
        "data = data.drop(['id', 'Unnamed: 32'], axis=1)\n",
        "\n",
        "# Map target variable\n",
        "data['diagnosis'] = data['diagnosis'].map({'M': 1, 'B': 0})\n",
        "\n",
        "# Preview the data\n",
        "data.head()\n"
      ],
      "metadata": {
        "colab": {
          "base_uri": "https://localhost:8080/",
          "height": 273
        },
        "id": "x6pOWuG7kybt",
        "outputId": "8eb8da28-e7e2-46be-f4f8-0736c76b398c"
      },
      "execution_count": 4,
      "outputs": [
        {
          "output_type": "execute_result",
          "data": {
            "text/plain": [
              "   diagnosis  radius_mean  texture_mean  perimeter_mean  area_mean  \\\n",
              "0          1        17.99         10.38          122.80     1001.0   \n",
              "1          1        20.57         17.77          132.90     1326.0   \n",
              "2          1        19.69         21.25          130.00     1203.0   \n",
              "3          1        11.42         20.38           77.58      386.1   \n",
              "4          1        20.29         14.34          135.10     1297.0   \n",
              "\n",
              "   smoothness_mean  compactness_mean  concavity_mean  concave points_mean  \\\n",
              "0          0.11840           0.27760          0.3001              0.14710   \n",
              "1          0.08474           0.07864          0.0869              0.07017   \n",
              "2          0.10960           0.15990          0.1974              0.12790   \n",
              "3          0.14250           0.28390          0.2414              0.10520   \n",
              "4          0.10030           0.13280          0.1980              0.10430   \n",
              "\n",
              "   symmetry_mean  ...  radius_worst  texture_worst  perimeter_worst  \\\n",
              "0         0.2419  ...         25.38          17.33           184.60   \n",
              "1         0.1812  ...         24.99          23.41           158.80   \n",
              "2         0.2069  ...         23.57          25.53           152.50   \n",
              "3         0.2597  ...         14.91          26.50            98.87   \n",
              "4         0.1809  ...         22.54          16.67           152.20   \n",
              "\n",
              "   area_worst  smoothness_worst  compactness_worst  concavity_worst  \\\n",
              "0      2019.0            0.1622             0.6656           0.7119   \n",
              "1      1956.0            0.1238             0.1866           0.2416   \n",
              "2      1709.0            0.1444             0.4245           0.4504   \n",
              "3       567.7            0.2098             0.8663           0.6869   \n",
              "4      1575.0            0.1374             0.2050           0.4000   \n",
              "\n",
              "   concave points_worst  symmetry_worst  fractal_dimension_worst  \n",
              "0                0.2654          0.4601                  0.11890  \n",
              "1                0.1860          0.2750                  0.08902  \n",
              "2                0.2430          0.3613                  0.08758  \n",
              "3                0.2575          0.6638                  0.17300  \n",
              "4                0.1625          0.2364                  0.07678  \n",
              "\n",
              "[5 rows x 31 columns]"
            ],
            "text/html": [
              "\n",
              "  <div id=\"df-77f82166-e662-48a1-82f8-3b4a06ce972d\" class=\"colab-df-container\">\n",
              "    <div>\n",
              "<style scoped>\n",
              "    .dataframe tbody tr th:only-of-type {\n",
              "        vertical-align: middle;\n",
              "    }\n",
              "\n",
              "    .dataframe tbody tr th {\n",
              "        vertical-align: top;\n",
              "    }\n",
              "\n",
              "    .dataframe thead th {\n",
              "        text-align: right;\n",
              "    }\n",
              "</style>\n",
              "<table border=\"1\" class=\"dataframe\">\n",
              "  <thead>\n",
              "    <tr style=\"text-align: right;\">\n",
              "      <th></th>\n",
              "      <th>diagnosis</th>\n",
              "      <th>radius_mean</th>\n",
              "      <th>texture_mean</th>\n",
              "      <th>perimeter_mean</th>\n",
              "      <th>area_mean</th>\n",
              "      <th>smoothness_mean</th>\n",
              "      <th>compactness_mean</th>\n",
              "      <th>concavity_mean</th>\n",
              "      <th>concave points_mean</th>\n",
              "      <th>symmetry_mean</th>\n",
              "      <th>...</th>\n",
              "      <th>radius_worst</th>\n",
              "      <th>texture_worst</th>\n",
              "      <th>perimeter_worst</th>\n",
              "      <th>area_worst</th>\n",
              "      <th>smoothness_worst</th>\n",
              "      <th>compactness_worst</th>\n",
              "      <th>concavity_worst</th>\n",
              "      <th>concave points_worst</th>\n",
              "      <th>symmetry_worst</th>\n",
              "      <th>fractal_dimension_worst</th>\n",
              "    </tr>\n",
              "  </thead>\n",
              "  <tbody>\n",
              "    <tr>\n",
              "      <th>0</th>\n",
              "      <td>1</td>\n",
              "      <td>17.99</td>\n",
              "      <td>10.38</td>\n",
              "      <td>122.80</td>\n",
              "      <td>1001.0</td>\n",
              "      <td>0.11840</td>\n",
              "      <td>0.27760</td>\n",
              "      <td>0.3001</td>\n",
              "      <td>0.14710</td>\n",
              "      <td>0.2419</td>\n",
              "      <td>...</td>\n",
              "      <td>25.38</td>\n",
              "      <td>17.33</td>\n",
              "      <td>184.60</td>\n",
              "      <td>2019.0</td>\n",
              "      <td>0.1622</td>\n",
              "      <td>0.6656</td>\n",
              "      <td>0.7119</td>\n",
              "      <td>0.2654</td>\n",
              "      <td>0.4601</td>\n",
              "      <td>0.11890</td>\n",
              "    </tr>\n",
              "    <tr>\n",
              "      <th>1</th>\n",
              "      <td>1</td>\n",
              "      <td>20.57</td>\n",
              "      <td>17.77</td>\n",
              "      <td>132.90</td>\n",
              "      <td>1326.0</td>\n",
              "      <td>0.08474</td>\n",
              "      <td>0.07864</td>\n",
              "      <td>0.0869</td>\n",
              "      <td>0.07017</td>\n",
              "      <td>0.1812</td>\n",
              "      <td>...</td>\n",
              "      <td>24.99</td>\n",
              "      <td>23.41</td>\n",
              "      <td>158.80</td>\n",
              "      <td>1956.0</td>\n",
              "      <td>0.1238</td>\n",
              "      <td>0.1866</td>\n",
              "      <td>0.2416</td>\n",
              "      <td>0.1860</td>\n",
              "      <td>0.2750</td>\n",
              "      <td>0.08902</td>\n",
              "    </tr>\n",
              "    <tr>\n",
              "      <th>2</th>\n",
              "      <td>1</td>\n",
              "      <td>19.69</td>\n",
              "      <td>21.25</td>\n",
              "      <td>130.00</td>\n",
              "      <td>1203.0</td>\n",
              "      <td>0.10960</td>\n",
              "      <td>0.15990</td>\n",
              "      <td>0.1974</td>\n",
              "      <td>0.12790</td>\n",
              "      <td>0.2069</td>\n",
              "      <td>...</td>\n",
              "      <td>23.57</td>\n",
              "      <td>25.53</td>\n",
              "      <td>152.50</td>\n",
              "      <td>1709.0</td>\n",
              "      <td>0.1444</td>\n",
              "      <td>0.4245</td>\n",
              "      <td>0.4504</td>\n",
              "      <td>0.2430</td>\n",
              "      <td>0.3613</td>\n",
              "      <td>0.08758</td>\n",
              "    </tr>\n",
              "    <tr>\n",
              "      <th>3</th>\n",
              "      <td>1</td>\n",
              "      <td>11.42</td>\n",
              "      <td>20.38</td>\n",
              "      <td>77.58</td>\n",
              "      <td>386.1</td>\n",
              "      <td>0.14250</td>\n",
              "      <td>0.28390</td>\n",
              "      <td>0.2414</td>\n",
              "      <td>0.10520</td>\n",
              "      <td>0.2597</td>\n",
              "      <td>...</td>\n",
              "      <td>14.91</td>\n",
              "      <td>26.50</td>\n",
              "      <td>98.87</td>\n",
              "      <td>567.7</td>\n",
              "      <td>0.2098</td>\n",
              "      <td>0.8663</td>\n",
              "      <td>0.6869</td>\n",
              "      <td>0.2575</td>\n",
              "      <td>0.6638</td>\n",
              "      <td>0.17300</td>\n",
              "    </tr>\n",
              "    <tr>\n",
              "      <th>4</th>\n",
              "      <td>1</td>\n",
              "      <td>20.29</td>\n",
              "      <td>14.34</td>\n",
              "      <td>135.10</td>\n",
              "      <td>1297.0</td>\n",
              "      <td>0.10030</td>\n",
              "      <td>0.13280</td>\n",
              "      <td>0.1980</td>\n",
              "      <td>0.10430</td>\n",
              "      <td>0.1809</td>\n",
              "      <td>...</td>\n",
              "      <td>22.54</td>\n",
              "      <td>16.67</td>\n",
              "      <td>152.20</td>\n",
              "      <td>1575.0</td>\n",
              "      <td>0.1374</td>\n",
              "      <td>0.2050</td>\n",
              "      <td>0.4000</td>\n",
              "      <td>0.1625</td>\n",
              "      <td>0.2364</td>\n",
              "      <td>0.07678</td>\n",
              "    </tr>\n",
              "  </tbody>\n",
              "</table>\n",
              "<p>5 rows × 31 columns</p>\n",
              "</div>\n",
              "    <div class=\"colab-df-buttons\">\n",
              "\n",
              "  <div class=\"colab-df-container\">\n",
              "    <button class=\"colab-df-convert\" onclick=\"convertToInteractive('df-77f82166-e662-48a1-82f8-3b4a06ce972d')\"\n",
              "            title=\"Convert this dataframe to an interactive table.\"\n",
              "            style=\"display:none;\">\n",
              "\n",
              "  <svg xmlns=\"http://www.w3.org/2000/svg\" height=\"24px\" viewBox=\"0 -960 960 960\">\n",
              "    <path d=\"M120-120v-720h720v720H120Zm60-500h600v-160H180v160Zm220 220h160v-160H400v160Zm0 220h160v-160H400v160ZM180-400h160v-160H180v160Zm440 0h160v-160H620v160ZM180-180h160v-160H180v160Zm440 0h160v-160H620v160Z\"/>\n",
              "  </svg>\n",
              "    </button>\n",
              "\n",
              "  <style>\n",
              "    .colab-df-container {\n",
              "      display:flex;\n",
              "      gap: 12px;\n",
              "    }\n",
              "\n",
              "    .colab-df-convert {\n",
              "      background-color: #E8F0FE;\n",
              "      border: none;\n",
              "      border-radius: 50%;\n",
              "      cursor: pointer;\n",
              "      display: none;\n",
              "      fill: #1967D2;\n",
              "      height: 32px;\n",
              "      padding: 0 0 0 0;\n",
              "      width: 32px;\n",
              "    }\n",
              "\n",
              "    .colab-df-convert:hover {\n",
              "      background-color: #E2EBFA;\n",
              "      box-shadow: 0px 1px 2px rgba(60, 64, 67, 0.3), 0px 1px 3px 1px rgba(60, 64, 67, 0.15);\n",
              "      fill: #174EA6;\n",
              "    }\n",
              "\n",
              "    .colab-df-buttons div {\n",
              "      margin-bottom: 4px;\n",
              "    }\n",
              "\n",
              "    [theme=dark] .colab-df-convert {\n",
              "      background-color: #3B4455;\n",
              "      fill: #D2E3FC;\n",
              "    }\n",
              "\n",
              "    [theme=dark] .colab-df-convert:hover {\n",
              "      background-color: #434B5C;\n",
              "      box-shadow: 0px 1px 3px 1px rgba(0, 0, 0, 0.15);\n",
              "      filter: drop-shadow(0px 1px 2px rgba(0, 0, 0, 0.3));\n",
              "      fill: #FFFFFF;\n",
              "    }\n",
              "  </style>\n",
              "\n",
              "    <script>\n",
              "      const buttonEl =\n",
              "        document.querySelector('#df-77f82166-e662-48a1-82f8-3b4a06ce972d button.colab-df-convert');\n",
              "      buttonEl.style.display =\n",
              "        google.colab.kernel.accessAllowed ? 'block' : 'none';\n",
              "\n",
              "      async function convertToInteractive(key) {\n",
              "        const element = document.querySelector('#df-77f82166-e662-48a1-82f8-3b4a06ce972d');\n",
              "        const dataTable =\n",
              "          await google.colab.kernel.invokeFunction('convertToInteractive',\n",
              "                                                    [key], {});\n",
              "        if (!dataTable) return;\n",
              "\n",
              "        const docLinkHtml = 'Like what you see? Visit the ' +\n",
              "          '<a target=\"_blank\" href=https://colab.research.google.com/notebooks/data_table.ipynb>data table notebook</a>'\n",
              "          + ' to learn more about interactive tables.';\n",
              "        element.innerHTML = '';\n",
              "        dataTable['output_type'] = 'display_data';\n",
              "        await google.colab.output.renderOutput(dataTable, element);\n",
              "        const docLink = document.createElement('div');\n",
              "        docLink.innerHTML = docLinkHtml;\n",
              "        element.appendChild(docLink);\n",
              "      }\n",
              "    </script>\n",
              "  </div>\n",
              "\n",
              "\n",
              "    <div id=\"df-84d15e1f-6e4c-413a-a03e-353aa523e21a\">\n",
              "      <button class=\"colab-df-quickchart\" onclick=\"quickchart('df-84d15e1f-6e4c-413a-a03e-353aa523e21a')\"\n",
              "                title=\"Suggest charts\"\n",
              "                style=\"display:none;\">\n",
              "\n",
              "<svg xmlns=\"http://www.w3.org/2000/svg\" height=\"24px\"viewBox=\"0 0 24 24\"\n",
              "     width=\"24px\">\n",
              "    <g>\n",
              "        <path d=\"M19 3H5c-1.1 0-2 .9-2 2v14c0 1.1.9 2 2 2h14c1.1 0 2-.9 2-2V5c0-1.1-.9-2-2-2zM9 17H7v-7h2v7zm4 0h-2V7h2v10zm4 0h-2v-4h2v4z\"/>\n",
              "    </g>\n",
              "</svg>\n",
              "      </button>\n",
              "\n",
              "<style>\n",
              "  .colab-df-quickchart {\n",
              "      --bg-color: #E8F0FE;\n",
              "      --fill-color: #1967D2;\n",
              "      --hover-bg-color: #E2EBFA;\n",
              "      --hover-fill-color: #174EA6;\n",
              "      --disabled-fill-color: #AAA;\n",
              "      --disabled-bg-color: #DDD;\n",
              "  }\n",
              "\n",
              "  [theme=dark] .colab-df-quickchart {\n",
              "      --bg-color: #3B4455;\n",
              "      --fill-color: #D2E3FC;\n",
              "      --hover-bg-color: #434B5C;\n",
              "      --hover-fill-color: #FFFFFF;\n",
              "      --disabled-bg-color: #3B4455;\n",
              "      --disabled-fill-color: #666;\n",
              "  }\n",
              "\n",
              "  .colab-df-quickchart {\n",
              "    background-color: var(--bg-color);\n",
              "    border: none;\n",
              "    border-radius: 50%;\n",
              "    cursor: pointer;\n",
              "    display: none;\n",
              "    fill: var(--fill-color);\n",
              "    height: 32px;\n",
              "    padding: 0;\n",
              "    width: 32px;\n",
              "  }\n",
              "\n",
              "  .colab-df-quickchart:hover {\n",
              "    background-color: var(--hover-bg-color);\n",
              "    box-shadow: 0 1px 2px rgba(60, 64, 67, 0.3), 0 1px 3px 1px rgba(60, 64, 67, 0.15);\n",
              "    fill: var(--button-hover-fill-color);\n",
              "  }\n",
              "\n",
              "  .colab-df-quickchart-complete:disabled,\n",
              "  .colab-df-quickchart-complete:disabled:hover {\n",
              "    background-color: var(--disabled-bg-color);\n",
              "    fill: var(--disabled-fill-color);\n",
              "    box-shadow: none;\n",
              "  }\n",
              "\n",
              "  .colab-df-spinner {\n",
              "    border: 2px solid var(--fill-color);\n",
              "    border-color: transparent;\n",
              "    border-bottom-color: var(--fill-color);\n",
              "    animation:\n",
              "      spin 1s steps(1) infinite;\n",
              "  }\n",
              "\n",
              "  @keyframes spin {\n",
              "    0% {\n",
              "      border-color: transparent;\n",
              "      border-bottom-color: var(--fill-color);\n",
              "      border-left-color: var(--fill-color);\n",
              "    }\n",
              "    20% {\n",
              "      border-color: transparent;\n",
              "      border-left-color: var(--fill-color);\n",
              "      border-top-color: var(--fill-color);\n",
              "    }\n",
              "    30% {\n",
              "      border-color: transparent;\n",
              "      border-left-color: var(--fill-color);\n",
              "      border-top-color: var(--fill-color);\n",
              "      border-right-color: var(--fill-color);\n",
              "    }\n",
              "    40% {\n",
              "      border-color: transparent;\n",
              "      border-right-color: var(--fill-color);\n",
              "      border-top-color: var(--fill-color);\n",
              "    }\n",
              "    60% {\n",
              "      border-color: transparent;\n",
              "      border-right-color: var(--fill-color);\n",
              "    }\n",
              "    80% {\n",
              "      border-color: transparent;\n",
              "      border-right-color: var(--fill-color);\n",
              "      border-bottom-color: var(--fill-color);\n",
              "    }\n",
              "    90% {\n",
              "      border-color: transparent;\n",
              "      border-bottom-color: var(--fill-color);\n",
              "    }\n",
              "  }\n",
              "</style>\n",
              "\n",
              "      <script>\n",
              "        async function quickchart(key) {\n",
              "          const quickchartButtonEl =\n",
              "            document.querySelector('#' + key + ' button');\n",
              "          quickchartButtonEl.disabled = true;  // To prevent multiple clicks.\n",
              "          quickchartButtonEl.classList.add('colab-df-spinner');\n",
              "          try {\n",
              "            const charts = await google.colab.kernel.invokeFunction(\n",
              "                'suggestCharts', [key], {});\n",
              "          } catch (error) {\n",
              "            console.error('Error during call to suggestCharts:', error);\n",
              "          }\n",
              "          quickchartButtonEl.classList.remove('colab-df-spinner');\n",
              "          quickchartButtonEl.classList.add('colab-df-quickchart-complete');\n",
              "        }\n",
              "        (() => {\n",
              "          let quickchartButtonEl =\n",
              "            document.querySelector('#df-84d15e1f-6e4c-413a-a03e-353aa523e21a button');\n",
              "          quickchartButtonEl.style.display =\n",
              "            google.colab.kernel.accessAllowed ? 'block' : 'none';\n",
              "        })();\n",
              "      </script>\n",
              "    </div>\n",
              "\n",
              "    </div>\n",
              "  </div>\n"
            ],
            "application/vnd.google.colaboratory.intrinsic+json": {
              "type": "dataframe",
              "variable_name": "data"
            }
          },
          "metadata": {},
          "execution_count": 4
        }
      ]
    },
    {
      "cell_type": "code",
      "source": [
        "data.isnull().sum()"
      ],
      "metadata": {
        "colab": {
          "base_uri": "https://localhost:8080/",
          "height": 1000
        },
        "id": "onGJybtInagw",
        "outputId": "211599b4-787e-4114-bfe0-b3bb9490768f"
      },
      "execution_count": 5,
      "outputs": [
        {
          "output_type": "execute_result",
          "data": {
            "text/plain": [
              "diagnosis                  0\n",
              "radius_mean                0\n",
              "texture_mean               0\n",
              "perimeter_mean             0\n",
              "area_mean                  0\n",
              "smoothness_mean            0\n",
              "compactness_mean           0\n",
              "concavity_mean             0\n",
              "concave points_mean        0\n",
              "symmetry_mean              0\n",
              "fractal_dimension_mean     0\n",
              "radius_se                  0\n",
              "texture_se                 0\n",
              "perimeter_se               0\n",
              "area_se                    0\n",
              "smoothness_se              0\n",
              "compactness_se             0\n",
              "concavity_se               0\n",
              "concave points_se          0\n",
              "symmetry_se                0\n",
              "fractal_dimension_se       0\n",
              "radius_worst               0\n",
              "texture_worst              0\n",
              "perimeter_worst            0\n",
              "area_worst                 0\n",
              "smoothness_worst           0\n",
              "compactness_worst          0\n",
              "concavity_worst            0\n",
              "concave points_worst       0\n",
              "symmetry_worst             0\n",
              "fractal_dimension_worst    0\n",
              "dtype: int64"
            ],
            "text/html": [
              "<div>\n",
              "<style scoped>\n",
              "    .dataframe tbody tr th:only-of-type {\n",
              "        vertical-align: middle;\n",
              "    }\n",
              "\n",
              "    .dataframe tbody tr th {\n",
              "        vertical-align: top;\n",
              "    }\n",
              "\n",
              "    .dataframe thead th {\n",
              "        text-align: right;\n",
              "    }\n",
              "</style>\n",
              "<table border=\"1\" class=\"dataframe\">\n",
              "  <thead>\n",
              "    <tr style=\"text-align: right;\">\n",
              "      <th></th>\n",
              "      <th>0</th>\n",
              "    </tr>\n",
              "  </thead>\n",
              "  <tbody>\n",
              "    <tr>\n",
              "      <th>diagnosis</th>\n",
              "      <td>0</td>\n",
              "    </tr>\n",
              "    <tr>\n",
              "      <th>radius_mean</th>\n",
              "      <td>0</td>\n",
              "    </tr>\n",
              "    <tr>\n",
              "      <th>texture_mean</th>\n",
              "      <td>0</td>\n",
              "    </tr>\n",
              "    <tr>\n",
              "      <th>perimeter_mean</th>\n",
              "      <td>0</td>\n",
              "    </tr>\n",
              "    <tr>\n",
              "      <th>area_mean</th>\n",
              "      <td>0</td>\n",
              "    </tr>\n",
              "    <tr>\n",
              "      <th>smoothness_mean</th>\n",
              "      <td>0</td>\n",
              "    </tr>\n",
              "    <tr>\n",
              "      <th>compactness_mean</th>\n",
              "      <td>0</td>\n",
              "    </tr>\n",
              "    <tr>\n",
              "      <th>concavity_mean</th>\n",
              "      <td>0</td>\n",
              "    </tr>\n",
              "    <tr>\n",
              "      <th>concave points_mean</th>\n",
              "      <td>0</td>\n",
              "    </tr>\n",
              "    <tr>\n",
              "      <th>symmetry_mean</th>\n",
              "      <td>0</td>\n",
              "    </tr>\n",
              "    <tr>\n",
              "      <th>fractal_dimension_mean</th>\n",
              "      <td>0</td>\n",
              "    </tr>\n",
              "    <tr>\n",
              "      <th>radius_se</th>\n",
              "      <td>0</td>\n",
              "    </tr>\n",
              "    <tr>\n",
              "      <th>texture_se</th>\n",
              "      <td>0</td>\n",
              "    </tr>\n",
              "    <tr>\n",
              "      <th>perimeter_se</th>\n",
              "      <td>0</td>\n",
              "    </tr>\n",
              "    <tr>\n",
              "      <th>area_se</th>\n",
              "      <td>0</td>\n",
              "    </tr>\n",
              "    <tr>\n",
              "      <th>smoothness_se</th>\n",
              "      <td>0</td>\n",
              "    </tr>\n",
              "    <tr>\n",
              "      <th>compactness_se</th>\n",
              "      <td>0</td>\n",
              "    </tr>\n",
              "    <tr>\n",
              "      <th>concavity_se</th>\n",
              "      <td>0</td>\n",
              "    </tr>\n",
              "    <tr>\n",
              "      <th>concave points_se</th>\n",
              "      <td>0</td>\n",
              "    </tr>\n",
              "    <tr>\n",
              "      <th>symmetry_se</th>\n",
              "      <td>0</td>\n",
              "    </tr>\n",
              "    <tr>\n",
              "      <th>fractal_dimension_se</th>\n",
              "      <td>0</td>\n",
              "    </tr>\n",
              "    <tr>\n",
              "      <th>radius_worst</th>\n",
              "      <td>0</td>\n",
              "    </tr>\n",
              "    <tr>\n",
              "      <th>texture_worst</th>\n",
              "      <td>0</td>\n",
              "    </tr>\n",
              "    <tr>\n",
              "      <th>perimeter_worst</th>\n",
              "      <td>0</td>\n",
              "    </tr>\n",
              "    <tr>\n",
              "      <th>area_worst</th>\n",
              "      <td>0</td>\n",
              "    </tr>\n",
              "    <tr>\n",
              "      <th>smoothness_worst</th>\n",
              "      <td>0</td>\n",
              "    </tr>\n",
              "    <tr>\n",
              "      <th>compactness_worst</th>\n",
              "      <td>0</td>\n",
              "    </tr>\n",
              "    <tr>\n",
              "      <th>concavity_worst</th>\n",
              "      <td>0</td>\n",
              "    </tr>\n",
              "    <tr>\n",
              "      <th>concave points_worst</th>\n",
              "      <td>0</td>\n",
              "    </tr>\n",
              "    <tr>\n",
              "      <th>symmetry_worst</th>\n",
              "      <td>0</td>\n",
              "    </tr>\n",
              "    <tr>\n",
              "      <th>fractal_dimension_worst</th>\n",
              "      <td>0</td>\n",
              "    </tr>\n",
              "  </tbody>\n",
              "</table>\n",
              "</div><br><label><b>dtype:</b> int64</label>"
            ]
          },
          "metadata": {},
          "execution_count": 5
        }
      ]
    },
    {
      "cell_type": "markdown",
      "source": [
        "Now that it is confirmed there are no missing values in the dataset, we can proceed without imputation."
      ],
      "metadata": {
        "id": "Qf9qX3y2nflw"
      }
    },
    {
      "cell_type": "markdown",
      "source": [
        "###**Step 2: Data Preprocessing**"
      ],
      "metadata": {
        "id": "JZkscUKDnp8-"
      }
    },
    {
      "cell_type": "markdown",
      "source": [
        "Standardization of numerical features was essential for models sensitive to feature scales, such as SVM and KNN. I used **StandardScaler** from Scikit-learn."
      ],
      "metadata": {
        "id": "Nn6dKffunwKp"
      }
    },
    {
      "cell_type": "code",
      "source": [
        "import pandas as pd\n",
        "import numpy as np\n",
        "from sklearn.model_selection import train_test_split\n",
        "from sklearn.preprocessing import StandardScaler\n",
        "\n",
        "# 1. Load the dataset (after uploading 'data.csv' to Colab)\n",
        "data = pd.read_csv('/content/data.csv')\n",
        "\n",
        "# 2. Drop unnecessary columns\n",
        "data = data.drop(['id', 'Unnamed: 32'], axis=1)\n",
        "\n",
        "# 3. Map target variable: Malignant = 1, Benign = 0\n",
        "data['diagnosis'] = data['diagnosis'].map({'M': 1, 'B': 0})\n",
        "\n",
        "# 4. Split features and labels\n",
        "X = data.drop('diagnosis', axis=1)  # Features\n",
        "y = data['diagnosis']               # Target label\n",
        "\n",
        "# 5. Train-test split (80% training, 20% testing)\n",
        "X_train, X_test, y_train, y_test = train_test_split(\n",
        "    X, y,\n",
        "    test_size=0.2,\n",
        "    random_state=42,\n",
        "    stratify=y   # Maintain same proportion of classes\n",
        ")\n",
        "\n",
        "# 6. Standardize the feature data\n",
        "scaler = StandardScaler()\n",
        "\n",
        "# Fit scaler only on training data\n",
        "X_train_scaled = scaler.fit_transform(X_train)\n",
        "\n",
        "# Transform test data using the same scaler\n",
        "X_test_scaled = scaler.transform(X_test)\n",
        "\n",
        "# 7. Check the shape of resulting datasets\n",
        "print(\"Training Features Shape:\", X_train_scaled.shape)\n",
        "print(\"Testing Features Shape:\", X_test_scaled.shape)\n",
        "print(\"Training Labels Shape:\", y_train.shape)\n",
        "print(\"Testing Labels Shape:\", y_test.shape)"
      ],
      "metadata": {
        "colab": {
          "base_uri": "https://localhost:8080/"
        },
        "id": "2mlcB17mnzFg",
        "outputId": "ec960976-2d8a-4acf-b38c-84eaae95cabd"
      },
      "execution_count": 6,
      "outputs": [
        {
          "output_type": "stream",
          "name": "stdout",
          "text": [
            "Training Features Shape: (455, 30)\n",
            "Testing Features Shape: (114, 30)\n",
            "Training Labels Shape: (455,)\n",
            "Testing Labels Shape: (114,)\n"
          ]
        }
      ]
    },
    {
      "cell_type": "markdown",
      "source": [
        "###**Step 3: Feature Engineering**"
      ],
      "metadata": {
        "id": "RMT32tD5oPFw"
      }
    },
    {
      "cell_type": "markdown",
      "source": [
        "Feature selection was performed using both Principal Component Analysis **(PCA)** and Recursive Feature Elimination **(RFE)**."
      ],
      "metadata": {
        "id": "11PQ8o6JoTfN"
      }
    },
    {
      "cell_type": "code",
      "source": [
        "from sklearn.decomposition import PCA\n",
        "from sklearn.feature_selection import RFE\n",
        "from sklearn.linear_model import LogisticRegression\n",
        "\n",
        "# PCA: Reduce the dimensionality of the dataset while retaining most variance\n",
        "pca = PCA(n_components=10)\n",
        "X_train_pca = pca.fit_transform(X_train_scaled)\n",
        "X_test_pca = pca.transform(X_test_scaled)\n",
        "\n",
        "# RFE: Select top 10 most important features using Logistic Regression as estimator\n",
        "model_lr = LogisticRegression(max_iter=10000, solver='lbfgs')\n",
        "rfe = RFE(model_lr, n_features_to_select=10)\n",
        "X_train_rfe = rfe.fit_transform(X_train_scaled, y_train)\n",
        "X_test_rfe = rfe.transform(X_test_scaled)\n",
        "\n",
        "# 3. Check shape of reduced datasets\n",
        "print(\"PCA-transformed Training Shape:\", X_train_pca.shape)\n",
        "print(\"PCA-transformed Testing Shape:\", X_test_pca.shape)\n",
        "print(\"RFE-selected Training Shape:\", X_train_rfe.shape)\n",
        "print(\"RFE-selected Testing Shape:\", X_test_rfe.shape)"
      ],
      "metadata": {
        "colab": {
          "base_uri": "https://localhost:8080/"
        },
        "id": "5uSNiktpoYQf",
        "outputId": "7ec85a0e-9693-42af-edcb-f2bead608837"
      },
      "execution_count": 7,
      "outputs": [
        {
          "output_type": "stream",
          "name": "stdout",
          "text": [
            "PCA-transformed Training Shape: (455, 10)\n",
            "PCA-transformed Testing Shape: (114, 10)\n",
            "RFE-selected Training Shape: (455, 10)\n",
            "RFE-selected Testing Shape: (114, 10)\n"
          ]
        }
      ]
    },
    {
      "cell_type": "markdown",
      "source": [
        "I retained both the PCA-transformed and RFE-selected datasets for model comparisons."
      ],
      "metadata": {
        "id": "C6WAylgIo2Ws"
      }
    },
    {
      "cell_type": "markdown",
      "source": [
        "###**Step 4: Model Building**"
      ],
      "metadata": {
        "id": "5gDNzrpJo3ya"
      }
    },
    {
      "cell_type": "markdown",
      "source": [
        "Five machine learning models were implemented:\n",
        "\n",
        "- Logistic Regression\n",
        "\n",
        "- Support Vector Machine (SVM)\n",
        "\n",
        "- Random Forest\n",
        "\n",
        "- K-Nearest Neighbors (KNN)\n",
        "\n",
        "- Artificial Neural Network (ANN)"
      ],
      "metadata": {
        "id": "t9a4Ay8XpARE"
      }
    },
    {
      "cell_type": "code",
      "source": [
        "from sklearn.linear_model import LogisticRegression\n",
        "from sklearn.svm import SVC\n",
        "from sklearn.ensemble import RandomForestClassifier\n",
        "from sklearn.neighbors import KNeighborsClassifier\n",
        "from sklearn.neural_network import MLPClassifier\n",
        "\n",
        "#initialize models\n",
        "models = {\n",
        "    'Logistic Regression': LogisticRegression(max_iter=10000, solver='lbfgs'),\n",
        "    'SVM': SVC(probability=True),\n",
        "    'Random Forest': RandomForestClassifier(),\n",
        "    'KNN': KNeighborsClassifier(),\n",
        "    'ANN': MLPClassifier(max_iter=1000)\n",
        "}\n",
        "\n",
        "#output confirmation\n",
        "print(\"Models initialized successfully:\")\n",
        "for model_name in models.keys():\n",
        "    print(f\"- {model_name}\")"
      ],
      "metadata": {
        "colab": {
          "base_uri": "https://localhost:8080/"
        },
        "id": "MGA8iIA3pINa",
        "outputId": "d0ae75fb-9f39-4add-a270-efd5a46ae245"
      },
      "execution_count": 8,
      "outputs": [
        {
          "output_type": "stream",
          "name": "stdout",
          "text": [
            "Models initialized successfully:\n",
            "- Logistic Regression\n",
            "- SVM\n",
            "- Random Forest\n",
            "- KNN\n",
            "- ANN\n"
          ]
        }
      ]
    },
    {
      "cell_type": "markdown",
      "source": [
        "###**Step 5: Hyperparameter Tuning**"
      ],
      "metadata": {
        "id": "YJlXu4X7BZ5d"
      }
    },
    {
      "cell_type": "markdown",
      "source": [
        "Each model was tuned using **Grid Search** with **5-fold Cross-Validation** to optimize hyperparameters and improve predictive performance. Separate parameter grids were defined for each model based on their common configurations."
      ],
      "metadata": {
        "id": "t-X1X5yqBeec"
      }
    },
    {
      "cell_type": "code",
      "source": [
        "from sklearn.model_selection import GridSearchCV\n",
        "\n",
        "#define parameter grids for each model\n",
        "param_grids = {\n",
        "    'Logistic Regression': {\n",
        "        'C': [0.01, 0.1, 1, 10, 100],\n",
        "        'penalty': ['l2'],\n",
        "        'solver': ['lbfgs']\n",
        "    },\n",
        "    'SVM': {\n",
        "        'C': [0.1, 1, 10],\n",
        "        'gamma': [1, 0.1, 0.01],\n",
        "        'kernel': ['rbf']\n",
        "    },\n",
        "    'Random Forest': {\n",
        "        'n_estimators': [50, 100, 200],\n",
        "        'max_depth': [None, 10, 20, 30]\n",
        "    },\n",
        "    'KNN': {\n",
        "        'n_neighbors': [3, 5, 7, 9],\n",
        "        'weights': ['uniform', 'distance']\n",
        "    },\n",
        "    'ANN': {\n",
        "        'hidden_layer_sizes': [(50,), (100,), (100,50)],\n",
        "        'activation': ['relu', 'tanh'],\n",
        "        'solver': ['adam'],\n",
        "        'alpha': [0.0001, 0.001]\n",
        "    }\n",
        "}\n",
        "\n",
        "# 2.create dictionary to store best models\n",
        "best_models = {}\n",
        "\n",
        "# 3.perform Grid Search for each model\n",
        "for name, model in models.items():\n",
        "    print(f\"\\nTuning hyperparameters for: {name}\")\n",
        "    grid = GridSearchCV(\n",
        "        estimator=model,\n",
        "        param_grid=param_grids[name],\n",
        "        scoring='accuracy',\n",
        "        cv=5,\n",
        "        verbose=1,\n",
        "        n_jobs=-1\n",
        "    )\n",
        "    grid.fit(X_train_scaled, y_train)\n",
        "\n",
        "    #store best estimator\n",
        "    best_models[name] = grid.best_estimator_\n",
        "\n",
        "    print(f\"Best parameters for {name}: {grid.best_params_}\")\n",
        "    print(f\"Best cross-validation accuracy: {grid.best_score_:.4f}\")"
      ],
      "metadata": {
        "colab": {
          "base_uri": "https://localhost:8080/"
        },
        "id": "4phRevUWBhlF",
        "outputId": "ca47e319-c2e5-4df1-8cde-503c9ff43952"
      },
      "execution_count": 9,
      "outputs": [
        {
          "output_type": "stream",
          "name": "stdout",
          "text": [
            "\n",
            "Tuning hyperparameters for: Logistic Regression\n",
            "Fitting 5 folds for each of 5 candidates, totalling 25 fits\n",
            "Best parameters for Logistic Regression: {'C': 1, 'penalty': 'l2', 'solver': 'lbfgs'}\n",
            "Best cross-validation accuracy: 0.9714\n",
            "\n",
            "Tuning hyperparameters for: SVM\n",
            "Fitting 5 folds for each of 9 candidates, totalling 45 fits\n",
            "Best parameters for SVM: {'C': 10, 'gamma': 0.01, 'kernel': 'rbf'}\n",
            "Best cross-validation accuracy: 0.9758\n",
            "\n",
            "Tuning hyperparameters for: Random Forest\n",
            "Fitting 5 folds for each of 12 candidates, totalling 60 fits\n",
            "Best parameters for Random Forest: {'max_depth': 30, 'n_estimators': 100}\n",
            "Best cross-validation accuracy: 0.9670\n",
            "\n",
            "Tuning hyperparameters for: KNN\n",
            "Fitting 5 folds for each of 8 candidates, totalling 40 fits\n",
            "Best parameters for KNN: {'n_neighbors': 3, 'weights': 'uniform'}\n",
            "Best cross-validation accuracy: 0.9692\n",
            "\n",
            "Tuning hyperparameters for: ANN\n",
            "Fitting 5 folds for each of 12 candidates, totalling 60 fits\n",
            "Best parameters for ANN: {'activation': 'relu', 'alpha': 0.0001, 'hidden_layer_sizes': (100,), 'solver': 'adam'}\n",
            "Best cross-validation accuracy: 0.9824\n"
          ]
        }
      ]
    },
    {
      "cell_type": "markdown",
      "source": [
        "After tuning, the best hyperparameters and corresponding cross-validation accuracy scores were recorded. These optimized models were stored in a dictionary for final evaluation."
      ],
      "metadata": {
        "id": "DNWPVLRICtUb"
      }
    },
    {
      "cell_type": "markdown",
      "source": [
        "###**Step 6: Model Evaluation**"
      ],
      "metadata": {
        "id": "31Ns0fyMC1AX"
      }
    },
    {
      "cell_type": "markdown",
      "source": [
        "Each optimized model was evaluated on the testing set using key metrics including accuracy, precision, recall, F1-score, and ROC-AUC. Confusion matrices and ROC curves were also generated to visualize performance."
      ],
      "metadata": {
        "id": "646yQH9uC_E4"
      }
    },
    {
      "cell_type": "code",
      "source": [
        "from sklearn.metrics import accuracy_score, precision_score, recall_score, f1_score, roc_auc_score, confusion_matrix, roc_curve\n",
        "import matplotlib.pyplot as plt\n",
        "import seaborn as sns\n",
        "\n",
        "#evaluation function\n",
        "def evaluate_model(name, model, X_test, y_test):\n",
        "    y_pred = model.predict(X_test)\n",
        "    y_proba = model.predict_proba(X_test)[:, 1]\n",
        "\n",
        "    acc = accuracy_score(y_test, y_pred)\n",
        "    prec = precision_score(y_test, y_pred)\n",
        "    rec = recall_score(y_test, y_pred)\n",
        "    f1 = f1_score(y_test, y_pred)\n",
        "    auc = roc_auc_score(y_test, y_proba)\n",
        "\n",
        "    print(f\"\\n{name} Evaluation Metrics:\")\n",
        "    print(f\"Accuracy:  {acc:.4f}\")\n",
        "    print(f\"Precision: {prec:.4f}\")\n",
        "    print(f\"Recall:    {rec:.4f}\")\n",
        "    print(f\"F1 Score:  {f1:.4f}\")\n",
        "    print(f\"ROC AUC:   {auc:.4f}\")\n",
        "\n",
        "    #plot confusion matrix\n",
        "    cm = confusion_matrix(y_test, y_pred)\n",
        "    plt.figure(figsize=(5,4))\n",
        "    sns.heatmap(cm, annot=True, fmt='d', cmap='Blues')\n",
        "    plt.title(f'Confusion Matrix - {name}')\n",
        "    plt.xlabel('Predicted')\n",
        "    plt.ylabel('Actual')\n",
        "    plt.show()\n",
        "\n",
        "    #plot ROC curve\n",
        "    fpr, tpr, thresholds = roc_curve(y_test, y_proba)\n",
        "    plt.figure(figsize=(6,5))\n",
        "    plt.plot(fpr, tpr, label=f'{name} (AUC = {auc:.2f})')\n",
        "    plt.plot([0, 1], [0, 1], 'k--')\n",
        "    plt.xlabel('False Positive Rate')\n",
        "    plt.ylabel('True Positive Rate')\n",
        "    plt.title(f'ROC Curve - {name}')\n",
        "    plt.legend(loc='lower right')\n",
        "    plt.show()\n",
        "\n",
        "#evaluate each best-tuned model\n",
        "for name, model in best_models.items():\n",
        "    evaluate_model(name, model, X_test_scaled, y_test)"
      ],
      "metadata": {
        "colab": {
          "base_uri": "https://localhost:8080/",
          "height": 1000
        },
        "id": "Kqr5Xai3DASa",
        "outputId": "500fba66-3891-4bee-b2da-55c4b4ddc39b"
      },
      "execution_count": 10,
      "outputs": [
        {
          "output_type": "stream",
          "name": "stdout",
          "text": [
            "\n",
            "Logistic Regression Evaluation Metrics:\n",
            "Accuracy:  0.9649\n",
            "Precision: 0.9750\n",
            "Recall:    0.9286\n",
            "F1 Score:  0.9512\n",
            "ROC AUC:   0.9960\n"
          ]
        },
        {
          "output_type": "display_data",
          "data": {
            "text/plain": [
              "<Figure size 500x400 with 2 Axes>"
            ],
            "image/png": "[encoded data removed]"
          },
          "metadata": {}
        },
        {
          "output_type": "display_data",
          "data": {
            "text/plain": [
              "<Figure size 600x500 with 1 Axes>"
            ],
            "image/png": "[encoded data removed]"
          },
          "metadata": {}
        },
        {
          "output_type": "stream",
          "name": "stdout",
          "text": [
            "\n",
            "SVM Evaluation Metrics:\n",
            "Accuracy:  0.9825\n",
            "Precision: 1.0000\n",
            "Recall:    0.9524\n",
            "F1 Score:  0.9756\n",
            "ROC AUC:   0.9960\n"
          ]
        },
        {
          "output_type": "display_data",
          "data": {
            "text/plain": [
              "<Figure size 500x400 with 2 Axes>"
            ],
            "image/png": "[encoded data removed]"
          },
          "metadata": {}
        },
        {
          "output_type": "display_data",
          "data": {
            "text/plain": [
              "<Figure size 600x500 with 1 Axes>"
            ],
            "image/png": "[encoded data removed]"
          },
          "metadata": {}
        },
        {
          "output_type": "stream",
          "name": "stdout",
          "text": [
            "\n",
            "Random Forest Evaluation Metrics:\n",
            "Accuracy:  0.9649\n",
            "Precision: 0.9750\n",
            "Recall:    0.9286\n",
            "F1 Score:  0.9512\n",
            "ROC AUC:   0.9940\n"
          ]
        },
        {
          "output_type": "display_data",
          "data": {
            "text/plain": [
              "<Figure size 500x400 with 2 Axes>"
            ],
            "image/png": "[encoded data removed]"
          },
          "metadata": {}
        },
        {
          "output_type": "display_data",
          "data": {
            "text/plain": [
              "<Figure size 600x500 with 1 Axes>"
            ],
            "image/png": "[encoded data removed]"
          },
          "metadata": {}
        },
        {
          "output_type": "stream",
          "name": "stdout",
          "text": [
            "\n",
            "KNN Evaluation Metrics:\n",
            "Accuracy:  0.9386\n",
            "Precision: 0.9730\n",
            "Recall:    0.8571\n",
            "F1 Score:  0.9114\n",
            "ROC AUC:   0.9825\n"
          ]
        },
        {
          "output_type": "display_data",
          "data": {
            "text/plain": [
              "<Figure size 500x400 with 2 Axes>"
            ],
            "image/png": "[encoded data removed]"
          },
          "metadata": {}
        },
        {
          "output_type": "display_data",
          "data": {
            "text/plain": [
              "<Figure size 600x500 with 1 Axes>"
            ],
            "image/png": "[encoded data removed]"
          },
          "metadata": {}
        },
        {
          "output_type": "stream",
          "name": "stdout",
          "text": [
            "\n",
            "ANN Evaluation Metrics:\n",
            "Accuracy:  0.9649\n",
            "Precision: 1.0000\n",
            "Recall:    0.9048\n",
            "F1 Score:  0.9500\n",
            "ROC AUC:   0.9931\n"
          ]
        },
        {
          "output_type": "display_data",
          "data": {
            "text/plain": [
              "<Figure size 500x400 with 2 Axes>"
            ],
            "image/png": "[encoded data removed]"
          },
          "metadata": {}
        },
        {
          "output_type": "display_data",
          "data": {
            "text/plain": [
              "<Figure size 600x500 with 1 Axes>"
            ],
            "image/png": "[encoded data removed]"
          },
          "metadata": {}
        }
      ]
    },
    {
      "cell_type": "markdown",
      "source": [
        "Evaluation results provided a detailed comparison of model effectiveness, highlighting strengths and weaknesses in classification performance."
      ],
      "metadata": {
        "id": "ioRRIXjEDY5u"
      }
    },
    {
      "cell_type": "markdown",
      "source": [
        "##**Experiment Results Discussion:**"
      ],
      "metadata": {
        "id": "6qBsASHKDtrG"
      }
    },
    {
      "cell_type": "markdown",
      "source": [
        "The evaluation of five machine learning models on the Breast Cancer Wisconsin Diagnostic Dataset revealed consistently high classification performance, with nuanced differences among algorithms. All models demonstrated strong capability in distinguishing between benign and malignant tumors, fulfilling the project’s objective of identifying an effective automated diagnostic approach.\n",
        "\n",
        "The **Artificial Neural Network (ANN)** emerged as the top-performing model, achieving an accuracy of **96.49%**, a perfect precision score of **1.00**, and a recall of **0.9048**, resulting in an F1-score of **0.9500**. The ANN’s **ROC-AUC score of 0.9931** indicated an outstanding ability to discriminate between classes across different probability thresholds. Notably, the confusion matrix showed **zero false positives and only four false negatives**, highlighting the model's reliability in minimizing misclassification of malignant cases, which is critical in a clinical context.\n",
        "\n",
        "The **Support Vector Machine (SVM)** and **Random Forest classifiers** also performed robustly, with cross-validation accuracies of **97.58%** and **96.70%**, respectively. Logistic Regression and K-Nearest Neighbors (KNN) achieved slightly lower but still competitive cross-validation scores of **97.14%** and **96.92%**. These results confirm that even traditional algorithms, when properly optimized through hyperparameter tuning, can achieve near-state-of-the-art performance on structured diagnostic datasets.\n",
        "\n",
        "Feature selection techniques, specifically **Principal Component Analysis (PCA)** and **Recursive Feature Elimination (RFE)**, effectively reduced the dimensionality of the dataset to the ten most informative features without a significant loss in model accuracy. This dimensionality reduction improved model efficiency and reduced overfitting risks, aligning with the project's goal of enhancing generalizability while maintaining diagnostic performance.\n",
        "\n",
        "These findings demonstrate that while deep learning models offer slight performance advantages, classical machine learning methods remain highly viable for breast cancer classification tasks, particularly when computational efficiency, interpretability, and resource constraints are considerations. The systematic comparison of models under a consistent experimental setup ensures that conclusions drawn are reliable and directly address the study’s objective: determining the most effective approach for tumor classification based on diagnostic features."
      ],
      "metadata": {
        "id": "BqDJNoHxDzl5"
      }
    },
    {
      "cell_type": "markdown",
      "source": [
        "##**Comparisons:**"
      ],
      "metadata": {
        "id": "OTSCmkZPFrmV"
      }
    },
    {
      "cell_type": "markdown",
      "source": [
        "The results of this study align closely with previous research demonstrating the effectiveness of machine learning models in breast cancer diagnosis. Early work by Street, Wolberg, and Mangasarian (1993) introduced the Breast Cancer Wisconsin Dataset and showed that simple models like Logistic Regression and early versions of Support Vector Machines could achieve high classification accuracy. In this project, Logistic Regression achieved a cross-validation accuracy of **97.14%**, validating its continued relevance as a strong baseline classifier in structured diagnostic tasks.\n",
        "\n",
        "Support Vector Machines (SVM) have been extensively studied for breast cancer detection. Osareh (2010) reported that SVM with non-linear kernels, particularly the radial basis function (RBF), outperformed linear models in classification accuracy. This study's SVM model, optimized with an RBF kernel, achieved a cross-validation accuracy of 97.58%, closely matching prior findings and reinforcing the advantage of non-linear decision boundaries in complex medical datasets.\n",
        "\n",
        "Tree-based methods have also been widely recognized for their robustness. Nagi and Arora (2013) highlighted Random Forest’s ability to improve feature selection and mitigate overfitting compared to single Decision Trees. In this project, Random Forest achieved a cross-validation accuracy of **96.70%**, demonstrating strong performance while providing feature importance insights, consistent with previous studies' observations.\n",
        "\n",
        "Deep learning models, particularly Convolutional Neural Networks (CNNs), have been shown to outperform classical models in image-based breast cancer detection tasks (Arevalo et al., 2016). While this project applied a simpler Artificial Neural Network (ANN) to structured feature data rather than images, the ANN still achieved the highest accuracy **(96.49%)** and **ROC-AUC (0.9931)**. This suggests that even relatively shallow neural networks can be highly effective when sufficient diagnostic features are available, supporting broader findings that deep learning offers powerful pattern recognition capabilities in healthcare applications.\n",
        "\n",
        "However, compared to CNN-based studies that leverage large image datasets (Arevalo, 2016), this study's ANN was less computationally intensive and required fewer data inputs. This highlights an important distinction: deep learning methods can be successfully adapted to structured clinical datasets without the heavy computational demands typically associated with large-scale imaging analysis.\n",
        "\n",
        "In summary, the findings of this study corroborate existing literature while also emphasizing the continued strength of classical machine learning models for structured, tabular medical data. While ANN provided a slight performance edge, traditional models like SVM and Random Forest remain highly competitive, offering practical advantages in interpretability, speed, and deployment simplicity."
      ],
      "metadata": {
        "id": "muuCMqp2FuhV"
      }
    },
    {
      "cell_type": "markdown",
      "source": [
        "##**Conclusion:**"
      ],
      "metadata": {
        "id": "Y2Ev0g1oGacW"
      }
    },
    {
      "cell_type": "markdown",
      "source": [
        "This project successfully developed and evaluated multiple machine learning models to classify breast tumors as benign or malignant using the Breast Cancer Wisconsin Diagnostic Dataset. Among the models tested, the Artificial Neural Network (ANN) achieved the highest overall performance, with an accuracy of 96.49% and an outstanding ROC-AUC score of 0.9931. Traditional models such as Support Vector Machines (SVM) and Random Forest also demonstrated strong predictive capabilities, closely matching the ANN’s performance after appropriate hyperparameter tuning and feature selection.\n",
        "\n",
        "The results affirm that machine learning techniques offer highly reliable tools for assisting in early breast cancer diagnosis. Deep learning models like ANN provide slight performance advantages; however, classical algorithms such as SVM and Random Forest remain competitive and may offer practical benefits in clinical settings where interpretability and computational efficiency are important considerations.\n",
        "\n",
        "Feature selection methods, including Principal Component Analysis (PCA) and Recursive Feature Elimination (RFE), proved effective in reducing dimensionality without sacrificing accuracy, improving model efficiency and robustness against overfitting. This highlights the importance of thoughtful feature engineering in medical machine learning applications.\n",
        "\n",
        "For future work, expanding the analysis to larger and more diverse datasets could further validate model generalizability across broader patient populations. Additionally, integrating more advanced deep learning architectures, such as deep neural networks or ensemble models combining multiple classifiers, may further enhance diagnostic accuracy. Finally, developing user-friendly clinical decision support systems based on these models could help bridge the gap between machine learning research and real-world healthcare implementation.\n",
        "\n",
        "Overall, this study demonstrates the promising role of machine learning in enhancing diagnostic processes for breast cancer and sets a foundation for future research in clinical predictive modeling."
      ],
      "metadata": {
        "id": "gfPrS0f4Gc_-"
      }
    },
    {
      "cell_type": "markdown",
      "source": [
        "##**References:**"
      ],
      "metadata": {
        "id": "2GsvM3kSG2rA"
      }
    },
    {
      "cell_type": "markdown",
      "source": [
        "Arevalo, J., Gonzalez, F. A., Ramos-Pollan, R., Oliveira, J. L., & Lopez, M. A. (2016). Representation learning for mammography mass lesion classification with convolutional neural networks. Computer Methods and Programs in Biomedicine, 127, 248–257.\n",
        "\n",
        "Elmore, J. G., Armstrong, K., Lehman, C. D., & Fletcher, S. W. (2005). Screening for breast cancer. Journal of the American Medical Association (JAMA), 293(10), 1245–1256. https://doi.org/10.1001/jama.293.10.1245\n",
        "\n",
        "Esteva, A., Kuprel, B., Novoa, R. A., Ko, J., Swetter, S. M., Blau, H. M., & Thrun, S. (2017). Dermatologist-level classification of skin cancer with deep neural networks. Nature, 542(7639), 115–118.\n",
        "\n",
        "McKinney, S. M., Sieniek, M., Godbole, V., Godwin, J., Antropova, N., Ashrafian, H., ... & Suleyman, M. (2020). International evaluation of an AI system for breast cancer screening. Nature, 577(7788), 89–94.\n",
        "\n",
        "Nagi, J., & Arora, A. (2013). Random forest-based breast cancer diagnosis. International Journal of Computer Applications, 67(14), 18–24.\n",
        "\n",
        "Osareh, A. (2010). Support vector machine-based classification for breast cancer diagnosis. Proceedings of the World Congress on Engineering and Computer Science, 2, 1–5.\n",
        "\n",
        "Polat, K., & Gunes, S. (2007). Breast cancer diagnosis using least square support vector machine classifier. Digital Signal Processing, 17(4), 694–701.\n",
        "\n",
        "Street, W. N., Wolberg, W. H., & Mangasarian, O. L. (1993). Nuclear feature extraction for breast tumor diagnosis. IS&T/SPIE 1993 International Symposium on Electronic Imaging: Science and Technology, 1905, 861–870.\n",
        "\n",
        "UCI Machine Learning Repository. (2020). Breast Cancer Wisconsin (Diagnostic) Data Set. Retrieved from https://archive.ics.uci.edu/ml/datasets/Breast+Cancer+Wisconsin+(Diagnostic)\n",
        "\n",
        "World Health Organization. (2021). Breast cancer. Retrieved from https://www.who.int/news-room/fact-sheets/detail/breast-cancer"
      ],
      "metadata": {
        "id": "qEm-uubdG5vZ"
      }
    }
  ]
}