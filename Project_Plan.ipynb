{
  "nbformat": 4,
  "nbformat_minor": 0,
  "metadata": {
    "colab": {
      "provenance": [],
      "authorship_tag": "ABX9TyNzLoHuZnNCIAfzd5CzRoSX",
      "include_colab_link": true
    },
    "kernelspec": {
      "name": "python3",
      "display_name": "Python 3"
    },
    "language_info": {
      "name": "python"
    }
  },
  "cells": [
    {
      "cell_type": "markdown",
      "metadata": {
        "id": "view-in-github",
        "colab_type": "text"
      },
      "source": [
        "<a href=\"https://colab.research.google.com/github/NanduB26/MAT-421/blob/main/Project_Plan.ipynb\" target=\"_parent\"><img src=\"https://colab.research.google.com/assets/colab-badge.svg\" alt=\"Open In Colab\"/></a>"
      ]
    },
    {
      "cell_type": "markdown",
      "source": [
        "##MAT 421 Final Project Plan: Predicting Breast Cancer Diagnosis Using Machine Learning"
      ],
      "metadata": {
        "id": "3H_PA4W6s3wx"
      }
    },
    {
      "cell_type": "markdown",
      "source": [
        "###Introduction to the Problem"
      ],
      "metadata": {
        "id": "Eapducv5tA6F"
      }
    },
    {
      "cell_type": "markdown",
      "source": [
        "Breast cancer is one of the most prevalent diseases worldwide and remains a critical health concern for women. Early detection is essential for improving survival rates, making accurate diagnosis a top priority. While traditional diagnostic methods such as mammography and biopsies are effective, they can also be costly and time-consuming. Machine learning (ML) offers a promising approach by analyzing medical data to support early detection, enhance diagnostic accuracy, and reduce the likelihood of errors.  \n",
        "\n",
        "This project focuses on developing a machine learning model using the **Breast Cancer Wisconsin Diagnostic Dataset** (https://www.kaggle.com/datasets/uciml/breast-cancer-wisconsin-data) to predict whether a tumor is benign or malignant. By implementing advanced ML algorithms, the study aims to improve classification accuracy and identify key factors that contribute to breast cancer diagnosis."
      ],
      "metadata": {
        "id": "0SKqz2TPwJIu"
      }
    },
    {
      "cell_type": "markdown",
      "source": [
        "###Related Work"
      ],
      "metadata": {
        "id": "P6A8oZ6EtJPw"
      }
    },
    {
      "cell_type": "markdown",
      "source": [
        "Machine learning has been widely applied in breast cancer classification, with models such as Logistic Regression, Support Vector Machines (SVM), Decision Trees, and Deep Learning improving diagnostic accuracy. Street, Wolberg, and Mangasarian (1993) pioneered this approach by introducing the Breast Cancer Wisconsin Dataset and using Logistic Regression and SVM to classify tumors based on cell features.\n",
        "\n",
        "Further studies have demonstrated the effectiveness of SVM, with Osareh (2010) finding that non-linear kernels, such as the radial basis function (RBF), outperform linear SVM in classification accuracy. Tree-based models have also been explored, with Nagi and Arora (2013) showing that Random Forest provides robust feature selection and reduces overfitting compared to single Decision Trees.\n",
        "\n",
        "Deep learning techniques, such as Convolutional Neural Networks (CNNs), have been investigated for breast cancer detection. Arevalo (2016) demonstrated that CNNs can automatically extract complex patterns from medical images, but they require large datasets and high computational power.\n",
        "\n",
        "While these studies highlight the strengths of various machine learning techniques, a comprehensive comparison of multiple models on standardized datasets is still needed. This project aims to fill this gap by evaluating Logistic Regression, SVM, Random Forest, K-Nearest Neighbors (KNN), and Artificial Neural Networks (ANN) using the Breast Cancer Wisconsin Dataset to determine the most effective model for tumor classification."
      ],
      "metadata": {
        "id": "q92Npnx4xEFO"
      }
    },
    {
      "cell_type": "markdown",
      "source": [
        "###Proposed Methodology/Models"
      ],
      "metadata": {
        "id": "A1R-IYVdtMQO"
      }
    },
    {
      "cell_type": "markdown",
      "source": [
        "Through this project, I will apply a supervised machine learning approach to classify tumors as malignant or benign. The first step involves data preprocessing, which includes handling missing values, normalizing numerical features, and selecting relevant features to improve model performance. Feature engineering follows, using Principal Component Analysis (PCA) and Recursive Feature Elimination (RFE) to identify the most important attributes and enhance interpretability.\n",
        "\n",
        "To build and train models, I will implement several classification algorithms. Logistic Regression will serve as the baseline model due to its simplicity and effectiveness in binary classification. Support Vector Machines (SVM) will provide strong performance in high-dimensional datasets, while Random Forest will evaluate feature importance and handle nonlinear relationships. Additionally, K-Nearest Neighbors (KNN) will offer an instance-based learning approach, and Artificial Neural Networks (ANN) will explore the potential of deep learning for breast cancer classification.\n",
        "\n",
        "I will evaluate model performance using accuracy, precision, recall, F1-score, the ROC curve, and the area under the curve (AUC) to ensure a comprehensive analysis of predictive power and reliability. Grid Search and Cross-Validation will optimize hyperparameters to enhance overall model performance.\n",
        "\n",
        "This project aims to identify the most effective machine learning model for breast cancer diagnosis while examining how feature selection impacts classification accuracy."
      ],
      "metadata": {
        "id": "HG2e78JNyAst"
      }
    },
    {
      "cell_type": "markdown",
      "source": [
        "###Experiment Setup"
      ],
      "metadata": {
        "id": "JrAZ77OztVhz"
      }
    },
    {
      "cell_type": "markdown",
      "source": [
        "I will use Google Colab as the primary environment for conducting experiments due to its ease of use and built-in support for machine learning libraries. The Breast Cancer Wisconsin Diagnostic Dataset will be used for model training and evaluation. The dataset will be split into training (80%) and testing (20%) sets to ensure a fair assessment of model performance. All code, results, and documentation will be stored in a GitHub repository for version control and reproducibility.\n",
        "\n",
        "Before training the models, I will preprocess the dataset by addressing any missing values and standardizing numerical features. The training process will involve testing different machine learning models to compare their effectiveness in classifying tumors. I will fine-tune each model’s hyperparameters using Grid Search and Cross-Validation to improve accuracy and generalizability.\n",
        "\n",
        "To evaluate performance, I will use key classification metrics such as accuracy, precision, recall, F1-score, ROC curve, and AUC (Area Under the Curve). Additionally, I will generate confusion matrices and precision-recall curves to analyze misclassification rates and model reliability. These visualizations will provide insights into how well each model distinguishes between benign and malignant tumors.\n",
        "\n",
        "Through this experimental setup, I will systematically compare different machine learning models, ensuring a rigorous and well-documented approach to identifying the most effective classifier for breast cancer diagnosis."
      ],
      "metadata": {
        "id": "J2J3lL2hy37N"
      }
    },
    {
      "cell_type": "markdown",
      "source": [
        "###Expected Results"
      ],
      "metadata": {
        "id": "zJzRIPnStY1o"
      }
    },
    {
      "cell_type": "markdown",
      "source": [
        "I expect machine learning models to achieve high accuracy in distinguishing between benign and malignant tumors, with Support Vector Machines (SVM) and Random Forest likely performing best. SVM is well-suited for high-dimensional datasets, while Random Forest effectively handles nonlinear relationships and provides feature importance insights.  \n",
        "\n",
        "Logistic Regression should serve as a reliable baseline but may not match the accuracy of more complex models. K-Nearest Neighbors (KNN) could be effective but may struggle with large datasets, while Artificial Neural Networks (ANN) might show strong performance if sufficient data is available, though computational demands could be a limitation.  \n",
        "\n",
        "Model evaluation will focus on accuracy, precision, recall, F1-score, and AUC-ROC curves to determine the best classifier. Feature selection methods like Principal Component Analysis (PCA) and Recursive Feature Elimination (RFE) are expected to enhance performance by reducing noise and improving efficiency. Hyperparameter tuning will further optimize accuracy and generalizability.  \n",
        "\n",
        "Ultimately, this study aims to identify the most effective machine learning approach for breast cancer diagnosis while assessing the impact of feature selection on classification performance."
      ],
      "metadata": {
        "id": "rMhyAV2yzihn"
      }
    }
  ]
}