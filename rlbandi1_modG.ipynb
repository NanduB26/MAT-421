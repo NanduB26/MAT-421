{
  "nbformat": 4,
  "nbformat_minor": 0,
  "metadata": {
    "colab": {
      "provenance": [],
      "authorship_tag": "ABX9TyNxe1RFm9dQFl+TUwJK4miP",
      "include_colab_link": true
    },
    "kernelspec": {
      "name": "python3",
      "display_name": "Python 3"
    },
    "language_info": {
      "name": "python"
    }
  },
  "cells": [
    {
      "cell_type": "markdown",
      "metadata": {
        "id": "view-in-github",
        "colab_type": "text"
      },
      "source": [
        "<a href=\"https://colab.research.google.com/github/NanduB26/MAT-421/blob/main/rlbandi1_modG.ipynb\" target=\"_parent\"><img src=\"https://colab.research.google.com/assets/colab-badge.svg\" alt=\"Open In Colab\"/></a>"
      ]
    },
    {
      "cell_type": "markdown",
      "source": [
        "#MAT 421 Module A: Sections 21.1, 21.2,and 21.3 HW"
      ],
      "metadata": {
        "id": "URnSz1fwYLCH"
      }
    },
    {
      "cell_type": "markdown",
      "source": [
        "##Numerical Integration Problem Statement"
      ],
      "metadata": {
        "id": "t664GinqYd-z"
      }
    },
    {
      "cell_type": "markdown",
      "source": [
        "Question:\n",
        "Write a Python function that approximates the integral of a given function\n",
        "𝑓\n",
        "(\n",
        "𝑥\n",
        ")\n",
        " over an interval\n",
        "[\n",
        "𝑎\n",
        ",\n",
        "𝑏\n",
        "]\n",
        " using the Left Riemann Sum with n subintervals."
      ],
      "metadata": {
        "id": "4bz5botnYh4L"
      }
    },
    {
      "cell_type": "code",
      "execution_count": 1,
      "metadata": {
        "colab": {
          "base_uri": "https://localhost:8080/"
        },
        "id": "6luZpamoYJ-X",
        "outputId": "21e17d17-f270-4255-a25b-a09536bc910a"
      },
      "outputs": [
        {
          "output_type": "stream",
          "name": "stdout",
          "text": [
            "Left Riemann Sum Approximation: 1.9835235375094546\n"
          ]
        }
      ],
      "source": [
        "import numpy as np\n",
        "\n",
        "def left_riemann_sum(f, a, b, n):\n",
        "    h = (b - a) / n  # Width of each subinterval\n",
        "    x = np.linspace(a, b - h, n)  # Left endpoints\n",
        "    return h * np.sum(f(x))  # Sum of areas of rectangles\n",
        "\n",
        "# Example: Approximate ∫ sin(x) dx from 0 to π using 10 subintervals\n",
        "a, b, n = 0, np.pi, 10\n",
        "approx_integral = left_riemann_sum(np.sin, a, b, n)\n",
        "print(f\"Left Riemann Sum Approximation: {approx_integral}\")"
      ]
    },
    {
      "cell_type": "markdown",
      "source": [
        "##Riemann’s Integral"
      ],
      "metadata": {
        "id": "7EoshbniYwSR"
      }
    },
    {
      "cell_type": "markdown",
      "source": [
        "Question:\n",
        "Write a Python function that approximates the integral of\n",
        "𝑓\n",
        "(\n",
        "𝑥\n",
        ")\n",
        " over\n",
        "[\n",
        "𝑎\n",
        ",\n",
        "𝑏\n",
        "]\n",
        " using the Midpoint Riemann Sum."
      ],
      "metadata": {
        "id": "ybco18RCY0WO"
      }
    },
    {
      "cell_type": "code",
      "source": [
        "import numpy as np\n",
        "\n",
        "def midpoint_riemann_sum(f, a, b, n):\n",
        "    h = (b - a) / n  # Width of subintervals\n",
        "    x = np.linspace(a + h/2, b - h/2, n)  # Midpoints of each subinterval\n",
        "    return h * np.sum(f(x))  # Sum of areas of rectangles\n",
        "\n",
        "# Example: Approximate ∫ e^x dx from 1 to 3 using 10 subintervals\n",
        "a, b, n = 1, 3, 10\n",
        "approx_integral = midpoint_riemann_sum(np.exp, a, b, n)\n",
        "print(f\"Midpoint Riemann Sum Approximation: {approx_integral}\")"
      ],
      "metadata": {
        "colab": {
          "base_uri": "https://localhost:8080/"
        },
        "id": "0aU1Z7OGY45Z",
        "outputId": "db02b4c3-f2a7-4211-f2d4-0ba3d5cb29a1"
      },
      "execution_count": 2,
      "outputs": [
        {
          "output_type": "stream",
          "name": "stdout",
          "text": [
            "Midpoint Riemann Sum Approximation: 17.33834340366239\n"
          ]
        }
      ]
    },
    {
      "cell_type": "markdown",
      "source": [
        "##Trapezoid Rule"
      ],
      "metadata": {
        "id": "LtVb2QmIY8fe"
      }
    },
    {
      "cell_type": "markdown",
      "source": [
        "Question:\n",
        "Write a Python function that approximates the integral of\n",
        "𝑓\n",
        "(\n",
        "𝑥\n",
        ")\n",
        " over\n",
        "[\n",
        "𝑎\n",
        ",\n",
        "𝑏\n",
        "]\n",
        " using the Trapezoidal Rule."
      ],
      "metadata": {
        "id": "pkDyEu1FZCVE"
      }
    },
    {
      "cell_type": "code",
      "source": [
        "import numpy as np\n",
        "\n",
        "def trapezoidal_rule(f, a, b, n):\n",
        "    h = (b - a) / n  # Width of subintervals\n",
        "    x = np.linspace(a, b, n + 1)  # Grid points\n",
        "    y = f(x)  # Function values at grid points\n",
        "    return h * (np.sum(y) - 0.5 * (y[0] + y[-1]))  # Trapezoidal rule formula\n",
        "\n",
        "# Example: Approximate ∫ x^2 dx from 0 to 2 using 10 subintervals\n",
        "a, b, n = 0, 2, 10\n",
        "approx_integral = trapezoidal_rule(lambda x: x**2, a, b, n)\n",
        "print(f\"Trapezoidal Rule Approximation: {approx_integral}\")"
      ],
      "metadata": {
        "colab": {
          "base_uri": "https://localhost:8080/"
        },
        "id": "qYMc1ek4ZFk4",
        "outputId": "fb21a9a1-8e81-4041-e5ee-e36c6a276df4"
      },
      "execution_count": 3,
      "outputs": [
        {
          "output_type": "stream",
          "name": "stdout",
          "text": [
            "Trapezoidal Rule Approximation: 2.6800000000000006\n"
          ]
        }
      ]
    }
  ]
}