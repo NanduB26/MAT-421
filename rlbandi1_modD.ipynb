{
  "nbformat": 4,
  "nbformat_minor": 0,
  "metadata": {
    "colab": {
      "provenance": [],
      "authorship_tag": "ABX9TyMk8JoIco+r4V84rK0hjt/z",
      "include_colab_link": true
    },
    "kernelspec": {
      "name": "python3",
      "display_name": "Python 3"
    },
    "language_info": {
      "name": "python"
    }
  },
  "cells": [
    {
      "cell_type": "markdown",
      "metadata": {
        "id": "view-in-github",
        "colab_type": "text"
      },
      "source": [
        "<a href=\"https://colab.research.google.com/github/NanduB26/MAT-421/blob/main/rlbandi1_modD.ipynb\" target=\"_parent\"><img src=\"https://colab.research.google.com/assets/colab-badge.svg\" alt=\"Open In Colab\"/></a>"
      ]
    },
    {
      "cell_type": "markdown",
      "source": [
        "#MAT 421 Module D: Sections 1.1, 1.2, 1.3 and 1.4 HW"
      ],
      "metadata": {
        "id": "Lh7Ml-DiS5Ke"
      }
    },
    {
      "cell_type": "markdown",
      "source": [
        "##Linear Algebra Concepts"
      ],
      "metadata": {
        "id": "xBm2Ush4TI7O"
      }
    },
    {
      "cell_type": "code",
      "execution_count": 1,
      "metadata": {
        "id": "qlXbQ9V5Rs4f"
      },
      "outputs": [],
      "source": [
        "# Import necessary libraries\n",
        "import numpy as np\n",
        "import matplotlib.pyplot as plt\n",
        "from numpy.linalg import eig, det, norm, qr, pinv"
      ]
    },
    {
      "cell_type": "markdown",
      "source": [
        "**Vectors and Vector Spaces:**"
      ],
      "metadata": {
        "id": "FbdhLncrU5RC"
      }
    },
    {
      "cell_type": "code",
      "source": [
        "vector_row = np.array([[2, -5, 4, 7]])\n",
        "vector_column = np.array([[1], [3], [6], [-2]])\n",
        "\n",
        "print(\"Vector Row Shape:\", vector_row.shape)\n",
        "print(\"Vector Column Shape:\", vector_column.shape)"
      ],
      "metadata": {
        "colab": {
          "base_uri": "https://localhost:8080/"
        },
        "id": "r1zLBzcBVOc-",
        "outputId": "051adca3-8406-46bc-9d67-6299783792d0"
      },
      "execution_count": 5,
      "outputs": [
        {
          "output_type": "stream",
          "name": "stdout",
          "text": [
            "Vector Row Shape: (1, 4)\n",
            "Vector Column Shape: (4, 1)\n"
          ]
        }
      ]
    },
    {
      "cell_type": "markdown",
      "source": [
        "**Cross Product:**"
      ],
      "metadata": {
        "id": "YizHQ7n-VxDk"
      }
    },
    {
      "cell_type": "code",
      "source": [
        "v = np.array([[2, 3, -1]])\n",
        "w = np.array([[4, -1, 2]])\n",
        "cross_product = np.cross(v, w)\n",
        "print(\"Cross Product of V and W:\", cross_product)"
      ],
      "metadata": {
        "colab": {
          "base_uri": "https://localhost:8080/"
        },
        "id": "0yLLsLwAV3Ot",
        "outputId": "fc608cdb-0672-47a3-cfc4-b951f3b5f568"
      },
      "execution_count": 4,
      "outputs": [
        {
          "output_type": "stream",
          "name": "stdout",
          "text": [
            "Cross Product of V and W: [[  5  -8 -14]]\n"
          ]
        }
      ]
    },
    {
      "cell_type": "markdown",
      "source": [
        "**Linear Combination and Span:**"
      ],
      "metadata": {
        "id": "c4IRDcSlWAsJ"
      }
    },
    {
      "cell_type": "code",
      "source": [
        "a = np.array([[1, 2, 3]])\n",
        "b = np.array([[4, 5, 6]])\n",
        "c = np.array([[7, 8, 9]])\n",
        "\n",
        "linear_comb = 2*a + 3*b - 4*c\n",
        "print(\"Linear Combination of Vectors:\", linear_comb)"
      ],
      "metadata": {
        "colab": {
          "base_uri": "https://localhost:8080/"
        },
        "id": "7ableORAWDel",
        "outputId": "33f25163-e2a3-405c-9a6f-d105c5f347d5"
      },
      "execution_count": 6,
      "outputs": [
        {
          "output_type": "stream",
          "name": "stdout",
          "text": [
            "Linear Combination of Vectors: [[-14 -13 -12]]\n"
          ]
        }
      ]
    },
    {
      "cell_type": "markdown",
      "source": [
        "**Matrix Operations:**"
      ],
      "metadata": {
        "id": "54HewY1AWPaf"
      }
    },
    {
      "cell_type": "code",
      "source": [
        "P = np.array([[2, 3], [4, 1], [5, 7]])\n",
        "Q = np.array([[1, 6, 2], [-3, 5, 4]])\n",
        "\n",
        "print(\"Matrix Product:\\n\", np.dot(P, Q))"
      ],
      "metadata": {
        "colab": {
          "base_uri": "https://localhost:8080/"
        },
        "id": "KkWwL0r-WRZg",
        "outputId": "c9a06961-d696-4ae7-ac4a-ded69a014262"
      },
      "execution_count": 7,
      "outputs": [
        {
          "output_type": "stream",
          "name": "stdout",
          "text": [
            "Matrix Product:\n",
            " [[ -7  27  16]\n",
            " [  1  29  12]\n",
            " [-16  65  38]]\n"
          ]
        }
      ]
    },
    {
      "cell_type": "markdown",
      "source": [
        "**Orthogonality and Orthonormal Bases:**"
      ],
      "metadata": {
        "id": "9gRMPyDAWYuS"
      }
    },
    {
      "cell_type": "code",
      "source": [
        "from numpy import arccos, dot\n",
        "v = np.array([[2, -1, 3]])\n",
        "w = np.array([[4, 5, -7]])\n",
        "\n",
        "theta = arccos(dot(v, w.T) / (norm(v) * norm(w)))\n",
        "print(\"Angle between Vectors (radians):\", theta)"
      ],
      "metadata": {
        "colab": {
          "base_uri": "https://localhost:8080/"
        },
        "id": "9qVlGjYJWbJQ",
        "outputId": "0417e4b7-8f38-4299-f285-95555c39e461"
      },
      "execution_count": 8,
      "outputs": [
        {
          "output_type": "stream",
          "name": "stdout",
          "text": [
            "Angle between Vectors (radians): [[2.10260442]]\n"
          ]
        }
      ]
    },
    {
      "cell_type": "markdown",
      "source": [
        "**Eigenvalues and Eigenvectors:**"
      ],
      "metadata": {
        "id": "ywMyJcjeWl1d"
      }
    },
    {
      "cell_type": "code",
      "source": [
        "A = np.array([[3, 1, -1], [2, 4, 2], [1, 3, 5]])\n",
        "eigenvalues, eigenvectors = eig(A)\n",
        "\n",
        "print(\"Eigenvalues:\", eigenvalues)\n",
        "print(\"Eigenvectors:\\n\", eigenvectors)"
      ],
      "metadata": {
        "colab": {
          "base_uri": "https://localhost:8080/"
        },
        "id": "dtQc8YQfWnYY",
        "outputId": "29f02118-e20f-47af-b9c2-6df63d9893b5"
      },
      "execution_count": 9,
      "outputs": [
        {
          "output_type": "stream",
          "name": "stdout",
          "text": [
            "Eigenvalues: [6.82842712 4.         1.17157288]\n",
            "Eigenvectors:\n",
            " [[ 0.07876312 -0.70710678  0.59718358]\n",
            " [-0.53782824  0.         -0.69964408]\n",
            " [-0.83936711  0.70710678  0.39226257]]\n"
          ]
        }
      ]
    },
    {
      "cell_type": "markdown",
      "source": [
        "##Linear Regression"
      ],
      "metadata": {
        "id": "G8rYEdevW05A"
      }
    },
    {
      "cell_type": "markdown",
      "source": [
        "**Least Squares Regression:**"
      ],
      "metadata": {
        "id": "Wi2bHZAuW_cl"
      }
    },
    {
      "cell_type": "code",
      "source": [
        "from scipy import optimize\n",
        "\n",
        "# Generate random data\n",
        "x = np.linspace(0, 10, 50)\n",
        "y = 2 + 3*x + np.random.normal(0, 3, len(x))  # y = 2 + 3x + noise\n",
        "\n",
        "# Assemble matrix A\n",
        "A = np.vstack([x, np.ones(len(x))]).T\n",
        "\n",
        "# Compute least squares solution\n",
        "pinv_A = pinv(A)\n",
        "beta = pinv_A.dot(y)\n",
        "\n",
        "# Plot results\n",
        "plt.figure(figsize=(10, 6))\n",
        "plt.scatter(x, y, label=\"Data points\")\n",
        "plt.plot(x, beta[0]*x + beta[1], 'r', label=f'Best Fit Line: y={beta[0]:.2f}x + {beta[1]:.2f}')\n",
        "plt.xlabel(\"x\")\n",
        "plt.ylabel(\"y\")\n",
        "plt.legend()\n",
        "plt.title(\"Least Squares Regression\")\n",
        "plt.show()"
      ],
      "metadata": {
        "colab": {
          "base_uri": "https://localhost:8080/",
          "height": 564
        },
        "id": "mj9wgPf6XK9f",
        "outputId": "1e90b367-1cac-4c3f-c73d-15fb06e48742"
      },
      "execution_count": 10,
      "outputs": [
        {
          "output_type": "display_data",
          "data": {
            "text/plain": [
              "<Figure size 1000x600 with 1 Axes>"
            ],
            "image/png": "[encoded data removed]"
          },
          "metadata": {}
        }
      ]
    },
    {
      "cell_type": "markdown",
      "source": [
        "**QR Decomposition for Eigenvalues:**"
      ],
      "metadata": {
        "id": "-Qg1Guf1XWuP"
      }
    },
    {
      "cell_type": "code",
      "source": [
        "A = np.array([[4, 2, -1], [2, 6, 3], [-1, 3, 5]])\n",
        "for i in range(10):\n",
        "    Q, R = qr(A)\n",
        "    A = R @ Q\n",
        "\n",
        "print(\"QR Decomposition Approximate Eigenvalues:\\n\", np.diag(A))"
      ],
      "metadata": {
        "colab": {
          "base_uri": "https://localhost:8080/"
        },
        "id": "ewcHbVC0XY8s",
        "outputId": "ec1258c5-bc68-4128-e877-2e07c47f8aea"
      },
      "execution_count": 11,
      "outputs": [
        {
          "output_type": "stream",
          "name": "stdout",
          "text": [
            "QR Decomposition Approximate Eigenvalues:\n",
            " [8.73008407 5.26991593 1.        ]\n"
          ]
        }
      ]
    }
  ]
}